{
 "metadata": {
  "name": ""
 },
 "nbformat": 3,
 "nbformat_minor": 0,
 "worksheets": [
  {
   "cells": [
    {
     "cell_type": "markdown",
     "metadata": {},
     "source": [
      "<h1 style=\"text-align:center\">Undamped Response to Harmonic Seismic Inputs</h1>\n",
      "<h3 style=\"text-align:center\"> MCHE 485: Mechanical Vibrations &mdash; Spring 2014</h2> \n",
      "<p style=\"text-align:center\">Dr. Joshua Vaughan <br>\n",
      "<a href=\"mailto:joshua.vaughan@louisiana.edu\">joshua.vaughan@louisiana.edu</a><br>\n",
      "http://www.ucs.louisiana.edu/~jev9637/   </p>"
     ]
    },
    {
     "cell_type": "markdown",
     "metadata": {},
     "source": [
      "<p style=\"text-align:center\">\n",
      "\t<img src=\"http://shared.crawlab.org/MassSpring_Seismic_Horiz.png\" alt=\"A Mass-Spring-Damper System\" width=50%/></a><br>\n",
      "    <strong> Figure 1: A Mass-Spring System </strong>\n",
      "</p>\n",
      "\n",
      "This notebook examines the frequency response of a simple mass-spring system like the one shown in Figure 1. It has a position input, $ y(t) $, that is known to be harmonic connected to the mass, $ m $, via a spring of stiffness $ k $. The position of the mass is defined by $ x(t) $.\n",
      "\n",
      "The equation of motion for the system is:\n",
      "\n",
      "<!-- the \\quad commmand just adds a space in the math mode -->\n",
      "$ \\quad m \\ddot{x} + kx = ky $\n",
      "\n",
      "We could also write this equation in terms of the damping ratio, $\\zeta$, and natural frequency, $\\omega_n$.\n",
      "\n",
      "$ \\quad \\ddot{x} + \\omega_n^2x = \\omega_n^2 y$\n",
      "\n",
      "For information on how to obtain this equation, you can see the lectures at the [class website](http://www.ucs.louisiana.edu/~jev9637/MCHE485.html)."
     ]
    },
    {
     "cell_type": "code",
     "collapsed": false,
     "input": [
      "import numpy as np              # Grab all of the NumPy functions with nickname np"
     ],
     "language": "python",
     "metadata": {},
     "outputs": [],
     "prompt_number": 1
    },
    {
     "cell_type": "code",
     "collapsed": false,
     "input": [
      "# We want our plots to be displayed inline, not in a separate window\n",
      "%pylab inline"
     ],
     "language": "python",
     "metadata": {},
     "outputs": [
      {
       "output_type": "stream",
       "stream": "stdout",
       "text": [
        "Populating the interactive namespace from numpy and matplotlib\n"
       ]
      }
     ],
     "prompt_number": 2
    },
    {
     "cell_type": "code",
     "collapsed": false,
     "input": [
      "# Define the System Parameters\n",
      "m = 1.0                 # kg\n",
      "k = (2.*np.pi)**2.      # N/m (Selected to give an undamped natural frequency of 1Hz)\n",
      "wn = np.sqrt(k/m)       # Natural Frequency (rad/s)"
     ],
     "language": "python",
     "metadata": {},
     "outputs": [],
     "prompt_number": 3
    },
    {
     "cell_type": "markdown",
     "metadata": {},
     "source": [
      "Let's use the closed-form, steady-state solution we developed in lecture:\n",
      "\n",
      "Assume:\n",
      "\n",
      "$ \\quad y(t) = \\bar{y} \\sin{\\omega t} $\n",
      "\n",
      "Then, the solution $x(t)$ should have the form:\n",
      "\n",
      "$ \\quad x(t) = a \\sin{\\omega t} + b \\cos{\\omega t} $\n",
      "\n",
      "We saw that when we substituted this assumed solution into the equations of motion for this undamped system, the $b$ constant was elimiinated, leaving:\n",
      "\n",
      "$ \\quad x(t) = \\frac{\\omega_n^2}{\\omega_n^2 - \\omega^2}\\bar{y} \\sin{\\omega t} $\n",
      "\n",
      "or \n",
      "\n",
      "$ \\quad x(t) = \\frac{\\omega_n^2}{\\omega_n^2 - \\omega^2} y(t) $\n",
      "\n",
      "So, $ \\frac{\\omega_n^2}{\\omega_n^2 - \\omega^2} $ gives us the relationship between the input $ y(t) $ and the system response $ x(t) $. Let's plot that for a range of frequencies."
     ]
    },
    {
     "cell_type": "code",
     "collapsed": false,
     "input": [
      "# Set up input parameters\n",
      "w = np.linspace(0,wn*3,500)            # Frequency range for freq response plot, 0-3x wn with 500 points in-between\n",
      "\n",
      "x_amp = (wn**2) / (wn**2 - w**2)\n",
      "\n",
      "# Let's mask the discontinuity, so it isn't plotted\n",
      "pos = np.where(np.abs(x_amp) >= 15)\n",
      "x_amp[pos] = np.nan\n",
      "w[pos] = np.nan"
     ],
     "language": "python",
     "metadata": {},
     "outputs": [],
     "prompt_number": 4
    },
    {
     "cell_type": "code",
     "collapsed": false,
     "input": [
      "# Make the figure pretty, then plot the results\n",
      "#   \"pretty\" parameters selected based on pdf output, not screen output\n",
      "#   Many of these setting could also be made default by the .matplotlibrc file\n",
      "fig = figure(figsize=(6,4))\n",
      "ax = gca()\n",
      "subplots_adjust(bottom=0.2,left=0.15,top=0.96,right=0.96)\n",
      "setp(ax.get_ymajorticklabels(),family='serif',fontsize=18)\n",
      "setp(ax.get_xmajorticklabels(),family='serif',fontsize=18)\n",
      "ax.spines['right'].set_color('none')\n",
      "ax.spines['top'].set_color('none')\n",
      "ax.xaxis.set_ticks_position('bottom')\n",
      "ax.yaxis.set_ticks_position('left')\n",
      "ax.grid(True,linestyle=':',color='0.75')\n",
      "ax.set_axisbelow(True)\n",
      "\n",
      "xlabel(r'Input Frequency $\\left(\\omega\\right)$',family='serif',fontsize=22,weight='bold',labelpad=10)\n",
      "ylabel(r'$ \\frac{\\omega_n^2}{\\omega_n^2 - \\omega^2} $',family='serif',fontsize=22,weight='bold',labelpad=10)\n",
      "ylim(-10.0,10.0)\n",
      "yticks([0])\n",
      "xticks([0,1],['0','$\\omega = \\omega_n$'])\n",
      "\n",
      "plot(w/wn,x_amp,linewidth=2)\n",
      "\n",
      "# If you want to save the figure, uncomment the commands below. \n",
      "# The figure will be saved in the same directory as your IPython notebook.\n",
      "# Save the figure as a high-res pdf in the current folder\n",
      "savefig('MassSpring_SeismicFreqResp_Amplitude.pdf',dpi=300)"
     ],
     "language": "python",
     "metadata": {},
     "outputs": [
      {
       "metadata": {},
       "output_type": "display_data",
       "png": "[encoded data removed]",
       "text": [
        "<matplotlib.figure.Figure at 0x108095610>"
       ]
      }
     ],
     "prompt_number": 5
    },
    {
     "cell_type": "markdown",
     "metadata": {},
     "source": [
      "### Acceleration \n",
      "Now, let's look at the acceleration of the mass, $\\ddot{x}(t)$, for the same seismic input, y(t).\n",
      "\n",
      "$ \\quad \\ddot{x}(t) = \\frac{-\\omega_n^2\\omega^2}{\\omega_n^2 - \\omega^2}\\bar{y} \\sin{\\omega t} $\n",
      "\n",
      "or \n",
      "\n",
      "$ \\quad x(t) = \\frac{-\\omega_n^2\\omega^2}{\\omega_n^2 - \\omega^2} y(t) $\n",
      "\n",
      "So, $ \\frac{-\\omega_n^2\\omega^2}{\\omega_n^2 - \\omega^2} $ gives us the relationship between the input $ y(t) $ and the acceleration of the mass, $ \\ddot{x}(t) $. Let's plot that for a range of frequencies."
     ]
    },
    {
     "cell_type": "code",
     "collapsed": false,
     "input": [
      "# Set up input parameters\n",
      "w = np.linspace(0,wn*3,500)            # Frequency range for freq response plot, 0-3x wn with 500 points in-between\n",
      "\n",
      "xddot_amp = -(wn**2 * w**2) / (wn**2 - w**2)\n",
      "\n",
      "# Let's mask the discontinuity, so it isn't plotted\n",
      "pos = np.where(np.abs(xddot_amp) >= 600)\n",
      "xddot_amp[pos] = np.nan\n",
      "w[pos] = np.nan"
     ],
     "language": "python",
     "metadata": {},
     "outputs": [],
     "prompt_number": 6
    },
    {
     "cell_type": "code",
     "collapsed": false,
     "input": [
      "# Make the figure pretty, then plot the results\n",
      "#   \"pretty\" parameters selected based on pdf output, not screen output\n",
      "#   Many of these setting could also be made default by the .matplotlibrc file\n",
      "fig = figure(figsize=(6,4))\n",
      "ax = gca()\n",
      "subplots_adjust(bottom=0.20,left=0.15,top=0.96,right=0.96)\n",
      "setp(ax.get_ymajorticklabels(),family='serif',fontsize=18)\n",
      "setp(ax.get_xmajorticklabels(),family='serif',fontsize=18)\n",
      "ax.spines['right'].set_color('none')\n",
      "ax.spines['top'].set_color('none')\n",
      "ax.xaxis.set_ticks_position('bottom')\n",
      "ax.yaxis.set_ticks_position('left')\n",
      "ax.grid(True,linestyle=':',color='0.75')\n",
      "ax.set_axisbelow(True)\n",
      "\n",
      "xlabel(r'Input Frequency $\\left(\\omega\\right)$',family='serif',fontsize=22,weight='bold',labelpad=10)\n",
      "ylabel(r'$ \\frac{-\\omega_n^2 \\omega^2}{\\omega_n^2 - \\omega^2} $',family='serif',fontsize=22,weight='bold',labelpad=10)\n",
      "ylim(-500.0,500.0)\n",
      "yticks([0])\n",
      "xticks([0,1],['0','$\\omega = \\omega_n$'])\n",
      "\n",
      "plot(w/wn,xddot_amp,linewidth=2)\n",
      "\n",
      "# If you want to save the figure, uncomment the commands below. \n",
      "# The figure will be saved in the same directory as your IPython notebook.\n",
      "# Save the figure as a high-res pdf in the current folder\n",
      "savefig('MassSpring_SeismicFreqResp_AccelAmplitude.pdf',dpi=300)"
     ],
     "language": "python",
     "metadata": {},
     "outputs": [
      {
       "metadata": {},
       "output_type": "display_data",
       "png": "[encoded data removed]",
       "text": [
        "<matplotlib.figure.Figure at 0x108af4650>"
       ]
      }
     ],
     "prompt_number": 7
    },
    {
     "cell_type": "markdown",
     "metadata": {},
     "source": [
      "### Normalization\n",
      "We could also normalize the input frequency, $ \\omega $, based on its relationship to the natural frequency of the system, $ \\omega_n$. To do so, divide both the numerator and denominator of:\n",
      "\n",
      "$ \\quad x(t) = \\frac{\\omega_n^2}{\\omega_n^2 - \\omega^2}\\bar{y} \\sin{\\omega t} $\n",
      "\n",
      "by $\\omega_n$. We can then define $\\Omega \\equiv \\frac{\\omega}{\\omega_n} $ and write:\n",
      "\n",
      "$ \\quad x(t) = \\left(\\frac{1}{1-\\Omega^2}\\right) \\bar{y} \\sin{\\omega t} $\n",
      "\n",
      "The term $\\frac{1}{1-\\Omega^2}$ then gives us a normalized version of the amplitude of vibration by plotting it versus $\\Omega$.\n"
     ]
    },
    {
     "cell_type": "code",
     "collapsed": false,
     "input": [
      "# Set up input parameters\n",
      "wnorm = np.linspace(0,3,500)            # Frequency range for freq response plot, 0-3x wn with 500 points in-between\n",
      "\n",
      "xnorm_amp = (1) / (1 - wnorm**2)\n",
      "\n",
      "# Let's mask the discontinuity, so it isn't plotted\n",
      "pos = np.where(np.abs(xnorm_amp) >= 15)\n",
      "x_amp[pos] = np.nan\n",
      "wnorm[pos] = np.nan"
     ],
     "language": "python",
     "metadata": {},
     "outputs": [],
     "prompt_number": 8
    },
    {
     "cell_type": "code",
     "collapsed": false,
     "input": [
      "# Make the figure pretty, then plot the results\n",
      "#   \"pretty\" parameters selected based on pdf output, not screen output\n",
      "#   Many of these setting could also be made default by the .matplotlibrc file\n",
      "fig = figure(figsize=(6,4))\n",
      "ax = gca()\n",
      "subplots_adjust(bottom=0.23,left=0.15,top=0.96,right=0.96)\n",
      "setp(ax.get_ymajorticklabels(),family='serif',fontsize=18)\n",
      "setp(ax.get_xmajorticklabels(),family='serif',fontsize=18)\n",
      "ax.spines['right'].set_color('none')\n",
      "ax.spines['top'].set_color('none')\n",
      "ax.xaxis.set_ticks_position('bottom')\n",
      "ax.yaxis.set_ticks_position('left')\n",
      "ax.grid(True,linestyle=':',color='0.75')\n",
      "ax.set_axisbelow(True)\n",
      "\n",
      "xlabel(r'Normalized Frequency $\\left(\\Omega = \\frac{\\omega}{\\omega_n}\\right)$',family='serif',fontsize=22,weight='bold',labelpad=5)\n",
      "ylabel(r'$ \\frac{1}{1 - \\Omega^2} $',family='serif',fontsize=22,weight='bold',labelpad=15)\n",
      "ylim(-5.0,5.0)\n",
      "yticks([0,1])\n",
      "xticks([0,1],['0','$\\Omega = 1$'])\n",
      "\n",
      "plot(wnorm,xnorm_amp,linewidth=2)\n",
      "\n",
      "# If you want to save the figure, uncomment the commands below. \n",
      "# The figure will be saved in the same directory as your IPython notebook.\n",
      "# Save the figure as a high-res pdf in the current folder\n",
      "savefig('MassSpring_SeismicFreqResp_NormAmp.pdf',dpi=300)"
     ],
     "language": "python",
     "metadata": {},
     "outputs": [
      {
       "metadata": {},
       "output_type": "display_data",
       "png": "[encoded data removed]",
       "text": [
        "<matplotlib.figure.Figure at 0x1080a3c50>"
       ]
      }
     ],
     "prompt_number": 9
    }
   ],
   "metadata": {}
  }
 ]
}
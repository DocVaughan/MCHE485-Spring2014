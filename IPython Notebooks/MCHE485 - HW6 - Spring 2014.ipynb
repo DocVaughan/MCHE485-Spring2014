{
 "metadata": {
  "name": "",
  "signature": "sha256:1bc2cbc7f25ab39d0de5c69350caf61501c9892e4bf6c98d715198fc45a39c90"
 },
 "nbformat": 3,
 "nbformat_minor": 0,
 "worksheets": [
  {
   "cells": [
    {
     "cell_type": "markdown",
     "metadata": {},
     "source": [
      "<h1 style=\"text-align:center\"> MCHE 485: Mechanical Vibrations &mdash; Spring 2014</h1> \n",
      "<h2 style=\"text-align:center\">Homework 6\n",
      "</h2>\n",
      "<p style=\"text-align:center\">Dr. Joshua Vaughan <br>\n",
      "<a href=\"mailto:joshua.vaughan@louisiana.edu\">joshua.vaughan@louisiana.edu</a><br>\n",
      "http://www.ucs.louisiana.edu/~jev9637/   </p>"
     ]
    },
    {
     "cell_type": "code",
     "collapsed": false,
     "input": [
      "import numpy as np              # Grab all of the NumPy functions with nickname np"
     ],
     "language": "python",
     "metadata": {},
     "outputs": [],
     "prompt_number": 2
    },
    {
     "cell_type": "code",
     "collapsed": false,
     "input": [
      "# We want our plots to be displayed inline, not in a separate window\n",
      "%matplotlib inline\n",
      "from matplotlib.pylab import *"
     ],
     "language": "python",
     "metadata": {},
     "outputs": [],
     "prompt_number": 3
    },
    {
     "cell_type": "markdown",
     "metadata": {},
     "source": [
      "### Problem 2.74\n",
      "The goal of this problem is determine the frequency of a ampliutde of vibration for a rotating shaft, which has been modeled as a rotating imbalance system."
     ]
    },
    {
     "cell_type": "code",
     "collapsed": false,
     "input": [
      "# Problem 2.74 - Let's check the solution\n",
      "t = np.linspace(0,1,1001)\n",
      "\n",
      "# Set up the harmonic, seismic input\n",
      "w = 60.                            # input frequency\n",
      "\n",
      "# The model parameters we're given\n",
      "k1 = 170000.0                      # spring constant (N/m)\n",
      "m = 100.0                          # mass (kg)\n",
      "wn = np.sqrt(2.0*k1/m)             # natural frequency (rad/s)\n",
      "\n",
      "# We solved for l based on the information from the problem, as w->inf\n",
      "l = 0.001                          # eccentricity\n",
      "\n",
      "# x_bar is the amplitude of the vibration of x\n",
      "x_bar = (l * w**2)/(wn**2 - w**2)\n",
      "print '\\nThe amplitude of vibration at 60.00 rad/s is {:.4f} m\\n'.format(x_bar)"
     ],
     "language": "python",
     "metadata": {},
     "outputs": [
      {
       "output_type": "stream",
       "stream": "stdout",
       "text": [
        "\n",
        "The amplitude of vibration at 60.00 rad/s is -0.0180 m\n",
        "\n"
       ]
      }
     ],
     "prompt_number": 4
    },
    {
     "cell_type": "markdown",
     "metadata": {},
     "source": [
      "## Chapter 3 Problems\n",
      "Instead of copying code for the next few problems, let's define a function that does the numerical Fourier approximation for us. In general, this is good practice. If you have to do something repeatedly, write a function to do it rather than copying and pasting the same code in many places."
     ]
    },
    {
     "cell_type": "code",
     "collapsed": false,
     "input": [
      "def numerical_fourier(t,y,num_terms):\n",
      "    ''' This function does the actual Numerical Fourier Expansion --------\n",
      "    # \n",
      "    # Inputs are:\n",
      "    #  t = time array\n",
      "    #  y = an array representing the function to examien\n",
      "    #  num_terms = the number of terms to use in the Fourier approx.\n",
      "    #\n",
      "    # Output is:\n",
      "    #  approx = an array representing the Fourier approximation\n",
      "    #\n",
      "    # NOTE: numpy trapz command is trapz(y,t) (opposite order of MATLAB/Octave)\n",
      "    '''\n",
      "\n",
      "    # We'll assume the we're only requesting the solution over only one period\n",
      "    # This would NOT generally be a safe assumption\n",
      "    \n",
      "    w0 = 2*np.pi/t[-1]\n",
      "    \n",
      "    # get the a0 term\n",
      "    a0 = w0/(2.0*np.pi)*np.trapz(f,t)  \n",
      "\n",
      "    # fill arrays with zeros - Good practice, it speeds computation in large problems\n",
      "    a = np.zeros((num_terms,))\n",
      "    b = np.zeros((num_terms,))\n",
      "    integral_cos = np.zeros((len(t),num_terms))\n",
      "    integral_sin = np.zeros((len(t),num_terms))\n",
      "    sin_term = np.zeros((num_terms,len(t)))\n",
      "    cos_term = np.zeros((num_terms,len(t)))\n",
      "\n",
      "    # cycle through the 1 to num_terms Fourier coefficients (a_n and b_n)\n",
      "    for n in range(num_terms):\n",
      "\n",
      "        # a_n calculations\n",
      "        integral_cos[:,n] = f * np.cos((n+1)*w0*t)         # define the integral \"interior\"\n",
      "        a[n] = w0/np.pi * np.trapz(integral_cos[:,n],t)    # solve for a_n\n",
      "\n",
      "        # b_n calculations\n",
      "        integral_sin[:,n] = f * np.sin((n+1)*w0*t)         # define the integral \"interior\"\n",
      "        b[n] = w0/np.pi * np.trapz(integral_sin[:,n],t)    # solve for b_n\n",
      "\n",
      "        sin_term[n,:] = np.sin((n+1)*w0*t)                 # calculate the nth sine term\n",
      "        cos_term[n,:] = np.cos((n+1)*w0*t)                 # calculate the nth cosine_term\n",
      "\n",
      "\n",
      "    # Generate the approximate input based on the Fourier coeff. calculated above\n",
      "    approx = np.zeros_like(t) #First fill with zeros\n",
      "\n",
      "    for ii in range(len(t)):\n",
      "         approx[ii] = a0 + np.sum(a * cos_term[:,ii],0) + np.sum(b * sin_term[:,ii],0)\n",
      "    \n",
      "    return approx"
     ],
     "language": "python",
     "metadata": {},
     "outputs": [],
     "prompt_number": 5
    },
    {
     "cell_type": "markdown",
     "metadata": {},
     "source": [
      "## Problem 3.3\n",
      "We'll just do the numerical part of this problem.\n",
      "\n",
      "We'll use an if/then based form to create the command this time."
     ]
    },
    {
     "cell_type": "code",
     "collapsed": false,
     "input": [
      "# Form the function from the problem\n",
      "time = np.linspace(0,8,8000)           # define the time to look at, easiest to just choose 1 period\n",
      "w0 = 2.0*np.pi/10.0                   # define the fundamental frequency (here, I know t(end)=tau)\n",
      "tau_0 = 2.0*np.pi/w0                  # define fundamental period based on w0\n",
      "\n",
      "f_bar = 0.0028                        # Amplitude of forcing function (N)\n",
      "\n",
      "f = np.zeros_like(time)\n",
      "\n",
      "for ii, t in enumerate(time):\n",
      "    if t > 1 and t <= 2:\n",
      "        f[ii] = f_bar*(t-1)\n",
      "    elif t > 2 and t <= 3:\n",
      "        f[ii] = -f_bar * (t-2) + f_bar\n",
      "    elif t > 5 and t <=6:\n",
      "        f[ii] = -f_bar*(t-5)\n",
      "    elif t > 6 and t <= 7:\n",
      "        f[ii] = f_bar*(t-6) - f_bar"
     ],
     "language": "python",
     "metadata": {},
     "outputs": [],
     "prompt_number": 7
    },
    {
     "cell_type": "code",
     "collapsed": false,
     "input": [
      "# Now, let's call our numerical_fourier function\n",
      "num_terms = 3\n",
      "prob3p3_approx = numerical_fourier(time,f,num_terms)"
     ],
     "language": "python",
     "metadata": {},
     "outputs": [],
     "prompt_number": 8
    },
    {
     "cell_type": "code",
     "collapsed": false,
     "input": [
      "# Now, let's compare the approximation to the result\n",
      "# Set the plot size - 3x2 aspect ratio is best\n",
      "fig = figure(figsize=(6,4))\n",
      "ax = gca()\n",
      "subplots_adjust(bottom=0.17,left=0.17,top=0.96,right=0.96)\n",
      "\n",
      "# Change the axis units to CMU Serif\n",
      "setp(ax.get_ymajorticklabels(),family='serif',fontsize=18)\n",
      "setp(ax.get_xmajorticklabels(),family='serif',fontsize=18)\n",
      "\n",
      "ax.spines['right'].set_color('none')\n",
      "ax.spines['top'].set_color('none')\n",
      "\n",
      "ax.xaxis.set_ticks_position('bottom')\n",
      "ax.yaxis.set_ticks_position('left')\n",
      "\n",
      "# Turn on the plot grid and set appropriate linestyle and color\n",
      "ax.grid(True,linestyle=':',color='0.75')\n",
      "ax.set_axisbelow(True)\n",
      "\n",
      "# Define the X and Y axis labels\n",
      "xlabel('Time (s)',family='srif',fontsize=22,weight='bold',labelpad=5)\n",
      "ylabel('Force (N)',family='serif',fontsize=22,weight='bold',labelpad=10)\n",
      "\n",
      "plot(time, f, linewidth=2, linestyle=\"-\", label=r'$f(t)$ -- Exact')\n",
      "\n",
      "approx_label = str(num_terms) + '-Term Fourier'\n",
      "plot(time, prob3p3_approx, linewidth=2, linestyle=\"--\",label=approx_label)\n",
      "\n",
      "yticks([-f_bar,0,f_bar],['$-f_{bar}$', '0', '$f_{bar}$'])\n",
      "\n",
      "# Create the legend, then fix the fontsize\n",
      "leg = legend(loc='upper right', fancybox=True)\n",
      "ltext  = leg.get_texts()\n",
      "setp(ltext,family='serif',fontsize=16)\n",
      "\n",
      "# Adjust the page layout filling the page using the new tight_layout command\n",
      "tight_layout(pad=0.5)\n",
      "\n",
      "# save the figure as a high-res pdf in the current folder\n",
      "# savefig('prolbem3p3_input_approx.pdf')"
     ],
     "language": "python",
     "metadata": {},
     "outputs": [
      {
       "metadata": {},
       "output_type": "display_data",
       "png": "[encoded data removed]",
       "text": [
        "<matplotlib.figure.Figure at 0x10cb6f4d0>"
       ]
      }
     ],
     "prompt_number": 9
    },
    {
     "cell_type": "markdown",
     "metadata": {},
     "source": [
      "## Problem 3.9\n",
      "Problem 3.9 is just the respone of the same command from Problem 3.3."
     ]
    },
    {
     "cell_type": "code",
     "collapsed": false,
     "input": [
      "# To get the response we'll use the control system toolbox\n",
      "\n",
      "import control                  # import the control system toolbox"
     ],
     "language": "python",
     "metadata": {},
     "outputs": [],
     "prompt_number": 10
    },
    {
     "cell_type": "code",
     "collapsed": false,
     "input": [
      "# Define the System Parameters\n",
      "m = 0.4                      # kg\n",
      "k1 = 0.256                   # N/m\n",
      "k2 = 0.768                   # N/m\n",
      "wn = np.sqrt((k1+k2)/m)      # Natural Frequency (rad/s)\n",
      "\n",
      "\n",
      "# Define the system to use in simulation - in transfer function form here\n",
      "num = [wn**2]\n",
      "den = [1, 0, wn**2]\n",
      "\n",
      "# Definte the transfer function\n",
      "sys = control.tf(num,den)\n",
      "\n",
      "# run the simulation - first with the exact input\n",
      "[T_out, yout_exact, xout_exact] = control.forced_response(sys, time, f)\n",
      "\n",
      "# run the simulation - now with the approximate input\n",
      "[T_approx, yout_approx, xout_approx] = control.forced_response(sys, time, prob3p3_approx)"
     ],
     "language": "python",
     "metadata": {},
     "outputs": [],
     "prompt_number": 11
    },
    {
     "cell_type": "code",
     "collapsed": false,
     "input": [
      "# Now, let's plot the comparison between the exact and approximate result\n",
      "\n",
      "# Make the figure pretty, then plot the results\n",
      "#   \"pretty\" parameters selected based on pdf output, not screen output\n",
      "#   Many of these setting could also be made default by the .matplotlibrc file\n",
      "fig = figure(figsize=(6,4))\n",
      "ax = gca()\n",
      "subplots_adjust(bottom=0.17,left=0.17,top=0.96,right=0.96)\n",
      "setp(ax.get_ymajorticklabels(),family='serif',fontsize=18)\n",
      "setp(ax.get_xmajorticklabels(),family='serif',fontsize=18)\n",
      "ax.spines['right'].set_color('none')\n",
      "ax.spines['top'].set_color('none')\n",
      "ax.xaxis.set_ticks_position('bottom')\n",
      "ax.yaxis.set_ticks_position('left')\n",
      "ax.grid(True,linestyle=':',color='0.75')\n",
      "ax.set_axisbelow(True)\n",
      "\n",
      "xlabel('Time (s)',family='serif',fontsize=22,weight='bold',labelpad=5)\n",
      "ylabel('Position (m)',family='serif',fontsize=22,weight='bold',labelpad=10)\n",
      "\n",
      "plot(time, f, linestyle = ':', linewidth=2, label=r'Exact Command')\n",
      "plot(time, yout_exact, linestyle = '-', linewidth=2, label=r'Exact Resp.')\n",
      "\n",
      "approx_label = str(num_terms) + '-Term Approx. Resp.'\n",
      "plot(time, yout_approx, linestyle = '--', linewidth=2, label=approx_label)\n",
      "\n",
      "leg = legend(loc='upper right', fancybox=True)\n",
      "ltext  = leg.get_texts() \n",
      "setp(ltext,family='serif',fontsize=16)\n",
      "\n",
      "ylim(-0.008, 0.01)\n",
      "\n",
      "# Adjust the page layout filling the page using the new tight_layout command\n",
      "tight_layout(pad=0.5)\n",
      "\n",
      "# If you want to save the figure, uncomment the two commands below. \n",
      "#   The figure will be saved in the same directory as your IPython notebook.\n",
      "# filename = 'Problem3p3_' + str(num_terms) + 'orderFourierApprox_Resp.pdf'\n",
      "# savefig(filename)"
     ],
     "language": "python",
     "metadata": {},
     "outputs": [
      {
       "metadata": {},
       "output_type": "display_data",
       "png": "[encoded data removed]",
       "text": [
        "<matplotlib.figure.Figure at 0x10cb3e150>"
       ]
      }
     ],
     "prompt_number": 12
    },
    {
     "cell_type": "markdown",
     "metadata": {},
     "source": [
      "## Problem 3.17\n",
      "For now, we'll just calculate the integral. You would have to evaluate it at the proper bounds to get the final answer."
     ]
    },
    {
     "cell_type": "code",
     "collapsed": false,
     "input": [
      "# We'll use the sybolic math module to help check this answer\n",
      "import sympy\n",
      "\n",
      "# Initializae the \"pretty\" printing of the symoblic math\n",
      "sympy.init_printing()\n",
      "\n",
      "x, y0, wn, tau, t = sympy.symbols('x, y_0, omega_n, tau, t', real = True, positive = True)\n",
      "\n",
      "h = wn * sympy.sin(wn * t)\n",
      "\n",
      "h.subs(t, tau)\n",
      "\n",
      "x = sympy.integrate((h.subs(t, tau) * y0), tau)\n",
      "\n",
      "x"
     ],
     "language": "python",
     "metadata": {},
     "outputs": [
      {
       "latex": [
        "$$- y_{0} \\cos{\\left (\\omega_{n} \\tau \\right )}$$"
       ],
       "metadata": {},
       "output_type": "pyout",
       "png": "[encoded data removed]",
       "prompt_number": 82,
       "text": [
        "-y\u2080\u22c5cos(\u03c9_n\u22c5\u03c4)"
       ]
      }
     ],
     "prompt_number": 82
    }
   ],
   "metadata": {}
  }
 ]
}
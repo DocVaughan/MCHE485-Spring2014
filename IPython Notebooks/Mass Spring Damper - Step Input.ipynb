{
 "metadata": {
  "name": ""
 },
 "nbformat": 3,
 "nbformat_minor": 0,
 "worksheets": [
  {
   "cells": [
    {
     "cell_type": "markdown",
     "metadata": {},
     "source": [
      "<h1 style=\"text-align:center\">Step Response of a Mass-Spring-Damper System</h1>\n",
      "<h3 style=\"text-align:center\"> MCHE 485: Mechanical Vibrations &mdash; Spring 2014</h2> \n",
      "<p style=\"text-align:center\">Dr. Joshua Vaughan <br>\n",
      "<a href=\"mailto:joshua.vaughan@louisiana.edu\">joshua.vaughan@louisiana.edu</a><br>\n",
      "http://www.ucs.louisiana.edu/~jev9637/   </p>"
     ]
    },
    {
     "cell_type": "markdown",
     "metadata": {},
     "source": [
      "<p style=\"text-align:center\">\n",
      "\t<img src=\"http://shared.crawlab.org/MassSpringDamper_Seismic_Horiz.png\" alt=\"A Mass-Spring-Damper System\" width=50%/></a><br>\n",
      "    <strong> Figure 1: A Mass-Spring-Damper System </strong>\n",
      "</p>\n",
      "\n",
      "This notebook simluates a step response of a simple mass-spring-damper system like the one shown in Figure 1. We will also be using some functions from the [Python Control Systems Toolbox](https://www.cds.caltech.edu/~murray/wiki/Control_Systems_Library_for_Python).\n",
      "\n",
      "The equation of motion for the system is:\n",
      "\n",
      "$ \\quad m \\ddot{x} + c \\dot{x} + kx = c \\dot{y} + ky $\n",
      "\n",
      "We could also write this equation in terms of the damping ratio, $\\zeta$, and natural frequency, $\\omega_n$.\n",
      "\n",
      "$ \\quad \\ddot{x} + 2\\zeta\\omega_n\\dot{x} + \\omega_n^2x = 2\\zeta\\omega_n \\dot{y} + \\omega_n^2 y$\n",
      "\n",
      "For information on how to obtain this equation, you can see the lectures at the [class website](http://www.ucs.louisiana.edu/~jev9637/MCHE485.html)."
     ]
    },
    {
     "cell_type": "code",
     "collapsed": false,
     "input": [
      "import numpy as np              # Grab all of the NumPy functions with nickname np\n",
      "import control                  # import the control system toolbox"
     ],
     "language": "python",
     "metadata": {},
     "outputs": [],
     "prompt_number": 1
    },
    {
     "cell_type": "code",
     "collapsed": false,
     "input": [
      "# We want our plots to be displayed inline, not in a separate window\n",
      "%pylab inline "
     ],
     "language": "python",
     "metadata": {},
     "outputs": [
      {
       "output_type": "stream",
       "stream": "stdout",
       "text": [
        "Populating the interactive namespace from numpy and matplotlib\n"
       ]
      }
     ],
     "prompt_number": 2
    },
    {
     "cell_type": "code",
     "collapsed": false,
     "input": [
      "# Define the System Parameters\n",
      "m = 1.0                 # kg\n",
      "k = (2.*np.pi)**2.      # N/m (Selected to give an undamped natrual frequency of 1Hz)\n",
      "wn = np.sqrt(k/m)       # Natural Frequency (rad/s)\n",
      "\n",
      "z = 0.25                 # Define a desired damping ratio\n",
      "c = 2*z*wn*m            # calculate the damping coeff. to create it (N/(m/s))\n",
      "\n",
      "wd = wn*np.sqrt(1-z**2) # Damped natural frequency (rad/s)"
     ],
     "language": "python",
     "metadata": {},
     "outputs": [],
     "prompt_number": 22
    },
    {
     "cell_type": "code",
     "collapsed": false,
     "input": [
      "# Define the system to use in simulation - in transfer function form here\n",
      "# Note, this TF includes a numerator based on a direct-force input. We'll later set that force equal to zero for all time.\n",
      "num = [2.*z*wn,wn**2]\n",
      "den = [1,2.*z*wn,wn**2]\n",
      "\n",
      "sys = control.tf(num,den)"
     ],
     "language": "python",
     "metadata": {},
     "outputs": [],
     "prompt_number": 23
    },
    {
     "cell_type": "code",
     "collapsed": false,
     "input": [
      "# Set up simulation parameters\n",
      "t = np.linspace(0,3,500)            # Time for simulation, 0-3s with 500 points in-between\n",
      "\n",
      "# Form the step input in desired position, yd, starting the step at t=0.5s\n",
      "yd = np.ones_like(t) * (t > 0.5)              "
     ],
     "language": "python",
     "metadata": {},
     "outputs": [],
     "prompt_number": 24
    },
    {
     "cell_type": "code",
     "collapsed": false,
     "input": [
      "# Define the initial conditions x_dot(0) = 0, x(0) = 0\n",
      "# Note: The initial conditions are in the opposite order of how they would be defined in MATLAB\n",
      "x0 = [0.,0.]\n",
      "\n",
      "# run the simulation - utilize the built-in initial condition response function\n",
      "[T,yout,x_out] = control.forced_response(sys,t,yd,x0)"
     ],
     "language": "python",
     "metadata": {},
     "outputs": [],
     "prompt_number": 38
    },
    {
     "cell_type": "code",
     "collapsed": false,
     "input": [
      "# Make the figure pretty, then plot the results\n",
      "#   \"pretty\" parameters selected based on pdf output, not screen output\n",
      "#   Many of these setting could also be made default by the .matplotlibrc file\n",
      "fig = figure(figsize=(6,4))\n",
      "ax = gca()\n",
      "subplots_adjust(bottom=0.17,left=0.17,top=0.96,right=0.96)\n",
      "setp(ax.get_ymajorticklabels(),family='serif',fontsize=18)\n",
      "setp(ax.get_xmajorticklabels(),family='serif',fontsize=18)\n",
      "ax.spines['right'].set_color('none')\n",
      "ax.spines['top'].set_color('none')\n",
      "ax.xaxis.set_ticks_position('bottom')\n",
      "ax.yaxis.set_ticks_position('left')\n",
      "ax.grid(True,linestyle=':',color='0.75')\n",
      "ax.set_axisbelow(True)\n",
      "\n",
      "xlabel('Time (s)',family='serif',fontsize=22,weight='bold',labelpad=5)\n",
      "ylabel('Position (m)',family='serif',fontsize=22,weight='bold',labelpad=10)\n",
      "ylim(0,2.0)\n",
      "\n",
      "plot(t,yd,'r--',linewidth=2,label='Step Input')\n",
      "plot(T,yout,color=\"blue\",linewidth=2,label='Response')\n",
      "\n",
      "leg = legend(loc='upper right', fancybox=True)\n",
      "ltext  = leg.get_texts() \n",
      "setp(ltext,family='serif',fontsize=16)\n",
      "\n",
      "# If you want to save the figure, uncomment the commands below. \n",
      "# The figure will be saved in the same directory as your IPython notebook.\n",
      "# Save the figure as a high-res pdf in the current folder\n",
      "# savefig('MassSpring_StepResp.pdf')"
     ],
     "language": "python",
     "metadata": {},
     "outputs": [
      {
       "metadata": {},
       "output_type": "pyout",
       "prompt_number": 39,
       "text": [
        "[None, None, None, None]"
       ]
      },
      {
       "metadata": {},
       "output_type": "display_data",
       "png": "[encoded data removed]",
       "text": [
        "<matplotlib.figure.Figure at 0x10e9f6cd0>"
       ]
      }
     ],
     "prompt_number": 39
    },
    {
     "cell_type": "markdown",
     "metadata": {},
     "source": [
      "We could also use the solution to the differential equation that we developed in class to plot the response. The solution for the underdamped case is:\n",
      "\n",
      "$ \\quad x(t) = c + e^{-\\zeta\\omega_nt}\\left(-c \\cos{\\omega_d t} - \\frac{\\zeta c}{\\sqrt{1-\\zeta^2}} \\sin{\\omega_d t}\\right) $"
     ]
    },
    {
     "cell_type": "code",
     "collapsed": false,
     "input": [
      "# Define the step input (We're using y_step, because we've already defined c as our damping coeff.)\n",
      "y_step = 1.0\n",
      "\n",
      "# Define x(t)\n",
      "# In this case, we're specifying that the step input occurs at t = 0\n",
      "x = y_step + np.exp(-z*wn*t)*(-y_step*np.cos(wd*t) + (z*y_step)/(np.sqrt(1-z**2)) * np.sin(wd*t))"
     ],
     "language": "python",
     "metadata": {},
     "outputs": [],
     "prompt_number": 36
    },
    {
     "cell_type": "markdown",
     "metadata": {},
     "source": [
      "Now, let's plot this version of the solution. It should look the same as the transfer-function-based version."
     ]
    },
    {
     "cell_type": "code",
     "collapsed": false,
     "input": [
      "# Make the figure pretty, then plot the results\n",
      "#   \"pretty\" parameters selected based on pdf output, not screen output\n",
      "#   Many of these setting could also be made default by the .matplotlibrc file\n",
      "fig = figure(figsize=(6,4))\n",
      "ax = gca()\n",
      "subplots_adjust(bottom=0.17,left=0.17,top=0.96,right=0.96)\n",
      "setp(ax.get_ymajorticklabels(),family='serif',fontsize=18)\n",
      "setp(ax.get_xmajorticklabels(),family='serif',fontsize=18)\n",
      "ax.spines['right'].set_color('none')\n",
      "ax.spines['top'].set_color('none')\n",
      "ax.xaxis.set_ticks_position('bottom')\n",
      "ax.yaxis.set_ticks_position('left')\n",
      "ax.grid(True,linestyle=':',color='0.75')\n",
      "ax.set_axisbelow(True)\n",
      "\n",
      "xlabel('Time (s)',family='serif',fontsize=22,weight='bold',labelpad=5)\n",
      "ylabel('Position (m)',family='serif',fontsize=22,weight='bold',labelpad=10)\n",
      "ylim(0,2.0)\n",
      "xlim(-0.5,2.5)\n",
      "\n",
      "plot(t,x,color=\"blue\",linewidth=2)"
     ],
     "language": "python",
     "metadata": {},
     "outputs": [
      {
       "metadata": {},
       "output_type": "pyout",
       "prompt_number": 40,
       "text": [
        "[<matplotlib.lines.Line2D at 0x10cfe3050>]"
       ]
      },
      {
       "metadata": {},
       "output_type": "display_data",
       "png": "[encoded data removed]",
       "text": [
        "<matplotlib.figure.Figure at 0x10df70790>"
       ]
      }
     ],
     "prompt_number": 40
    }
   ],
   "metadata": {}
  }
 ]
}
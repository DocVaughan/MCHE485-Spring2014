{
 "metadata": {
  "name": "",
  "signature": "sha256:6945493283b363287fd7a430b97ddeeb3b49fde4a1e18e338234e0d858735762"
 },
 "nbformat": 3,
 "nbformat_minor": 0,
 "worksheets": [
  {
   "cells": [
    {
     "cell_type": "markdown",
     "metadata": {},
     "source": [
      "<h1 style=\"text-align:center\"> MCHE 485: Mechanical Vibrations &mdash; Spring 2014</h1> \n",
      "<h2 style=\"text-align:center\">Homework 7\n",
      "</h2>\n",
      "<p style=\"text-align:center\">Dr. Joshua Vaughan <br>\n",
      "<a href=\"mailto:joshua.vaughan@louisiana.edu\">joshua.vaughan@louisiana.edu</a><br>\n",
      "http://www.ucs.louisiana.edu/~jev9637/   </p>"
     ]
    },
    {
     "cell_type": "code",
     "collapsed": false,
     "input": [
      "import numpy as np              # Grab all of the NumPy functions with nickname np"
     ],
     "language": "python",
     "metadata": {},
     "outputs": [],
     "prompt_number": 63
    },
    {
     "cell_type": "code",
     "collapsed": false,
     "input": [
      "# We want our plots to be displayed inline, not in a separate window\n",
      "%matplotlib inline\n",
      "from matplotlib.pylab import *"
     ],
     "language": "python",
     "metadata": {},
     "outputs": [],
     "prompt_number": 64
    },
    {
     "cell_type": "code",
     "collapsed": false,
     "input": [
      "# Define the system parameters\n",
      "import sympy\n",
      "sympy.init_printing()\n",
      "\n",
      "m1, m2, k1, k2, k3 = sympy.symbols('m_1, m_2, k_1, k_2, k_3', real=True)\n",
      "\n",
      "M = sympy.Matrix([[m1, 0],[0, m2]])\n",
      "K = sympy.Matrix([[k1+k2, -k2],[-k2, k2+k3]])"
     ],
     "language": "python",
     "metadata": {},
     "outputs": [],
     "prompt_number": 65
    },
    {
     "cell_type": "code",
     "collapsed": false,
     "input": [
      "# Let's explicity look at the K - w^2M system\n",
      "w = sympy.symbols('omega', real=True)\n",
      "\n",
      "char = K - w**2 * M\n",
      "\n",
      "char_poly = sympy.det(char)"
     ],
     "language": "python",
     "metadata": {},
     "outputs": [],
     "prompt_number": 66
    },
    {
     "cell_type": "code",
     "collapsed": false,
     "input": [
      "char_poly"
     ],
     "language": "python",
     "metadata": {},
     "outputs": [
      {
       "latex": [
        "$$k_{1} k_{2} + k_{1} k_{3} - k_{1} m_{2} \\omega^{2} + k_{2} k_{3} - k_{2} m_{1} \\omega^{2} - k_{2} m_{2} \\omega^{2} - k_{3} m_{1} \\omega^{2} + m_{1} m_{2} \\omega^{4}$$"
       ],
       "metadata": {},
       "output_type": "pyout",
       "png": "[encoded data removed]",
       "prompt_number": 67,
       "text": [
        "                       2                  2          2          2          4\n",
        "k\u2081\u22c5k\u2082 + k\u2081\u22c5k\u2083 - k\u2081\u22c5m\u2082\u22c5\u03c9  + k\u2082\u22c5k\u2083 - k\u2082\u22c5m\u2081\u22c5\u03c9  - k\u2082\u22c5m\u2082\u22c5\u03c9  - k\u2083\u22c5m\u2081\u22c5\u03c9  + m\u2081\u22c5m\u2082\u22c5\u03c9 "
       ]
      }
     ],
     "prompt_number": 67
    },
    {
     "cell_type": "code",
     "collapsed": false,
     "input": [
      "# Now substitute the values for the variables\n",
      "char_poly.subs([(m1,1), (m2,2), (k1,3), (k2,2), (k3, 4)])"
     ],
     "language": "python",
     "metadata": {},
     "outputs": [
      {
       "latex": [
        "$$2 \\omega^{4} - 16 \\omega^{2} + 26$$"
       ],
       "metadata": {},
       "output_type": "pyout",
       "png": "[encoded data removed]",
       "prompt_number": 68,
       "text": [
        "   4       2     \n",
        "2\u22c5\u03c9  - 16\u22c5\u03c9  + 26"
       ]
      }
     ],
     "prompt_number": 68
    },
    {
     "cell_type": "code",
     "collapsed": false,
     "input": [
      "# Now substitute the values for the variables AND solve = 0 for w^2\n",
      "eig1, eig2 = sympy.solve(char_poly.subs([(m1,1), (m2,2), (k1,3), (k2,2), (k3, 4)]),w**2)\n",
      "\n",
      "type(eig1)"
     ],
     "language": "python",
     "metadata": {},
     "outputs": [
      {
       "metadata": {},
       "output_type": "pyout",
       "prompt_number": 69,
       "text": [
        "sympy.core.add.Add"
       ]
      }
     ],
     "prompt_number": 69
    },
    {
     "cell_type": "code",
     "collapsed": false,
     "input": [
      "evect1_matrix = K - eig1.evalf()*M\n",
      "evect2_matrix = K - eig2*M\n",
      "\n",
      "evect1_matrix_num = evect1_matrix.subs([(m1,1.), (m2,2.), (k1,3.), (k2,2.), (k3, 4.)])\n",
      "evect2_matrix_num = evect1_matrix.subs([(m1,1.), (m2,2.), (k1,3.), (k2,2.), (k3, 4.)])\n",
      "\n",
      "evect1_matrix_num\n",
      "\n",
      "rhs = sympy.Matrix([[0],[0]])\n",
      "\n",
      "evect1 = evect1_matrix_num.LUsolve(rhs)\n",
      "evect2 = evect2_matrix_num.LUsolve(sympy.Matrix([[0],[0]]))\n",
      "\n",
      "evect1"
     ],
     "language": "python",
     "metadata": {},
     "outputs": [
      {
       "latex": [
        "$$\\left[\\begin{matrix}0\\\\0\\end{matrix}\\right]$$"
       ],
       "metadata": {},
       "output_type": "pyout",
       "png": "[encoded data removed]",
       "prompt_number": 70,
       "text": [
        "\u23a10\u23a4\n",
        "\u23a2 \u23a5\n",
        "\u23a30\u23a6"
       ]
      }
     ],
     "prompt_number": 70
    },
    {
     "cell_type": "code",
     "collapsed": false,
     "input": [
      "char_poly = sympy.det(char)"
     ],
     "language": "python",
     "metadata": {},
     "outputs": [],
     "prompt_number": 71
    },
    {
     "cell_type": "code",
     "collapsed": false,
     "input": [
      "# Now, let's solve it numerically\n",
      "m1 = 1.0\n",
      "m2 = 2.0\n",
      "\n",
      "k1 = 3.0\n",
      "k2 = 2.0\n",
      "k3 = 4.0\n",
      "\n",
      "M = np.array([[m1, 0],[0, m2]])\n",
      "K = np.array([[k1+k2, -k2],[-k2, k2+k3]])"
     ],
     "language": "python",
     "metadata": {},
     "outputs": [],
     "prompt_number": 72
    },
    {
     "cell_type": "code",
     "collapsed": false,
     "input": [
      "# We'll use the scipy version of the linear algebra\n",
      "from scipy import linalg\n",
      "\n",
      "eigenvals, eigenvects = linalg.eigh(K,M)"
     ],
     "language": "python",
     "metadata": {},
     "outputs": [],
     "prompt_number": 73
    },
    {
     "cell_type": "code",
     "collapsed": false,
     "input": [
      "print '\\n'\n",
      "print 'The resulting eigenalues are {:.2f} and {:.2f}.'.format(eigenvals[0], eigenvals[1])\n",
      "print '\\n'\n",
      "print 'So the two natrual frequencies are {:.2f}rad/s and {:.2f}rad/s.'.format(np.sqrt(eigenvals[0]), np.sqrt(eigenvals[1]))\n",
      "print '\\n'"
     ],
     "language": "python",
     "metadata": {},
     "outputs": [
      {
       "output_type": "stream",
       "stream": "stdout",
       "text": [
        "\n",
        "\n",
        "The resulting eigenalues are 2.27 and 5.73.\n",
        "\n",
        "\n",
        "So the two natrual frequencies are 1.51rad/s and 2.39rad/s.\n",
        "\n",
        "\n"
       ]
      }
     ],
     "prompt_number": 74
    },
    {
     "cell_type": "code",
     "collapsed": false,
     "input": [
      "print '\\n'\n",
      "print 'The first eigenvector is ' + str(eigenvects[:,0]) + '.'\n",
      "print '\\n'\n",
      "print 'The second eigenvector is ' + str(eigenvects[:,1]) + '.'\n",
      "print '\\n'"
     ],
     "language": "python",
     "metadata": {},
     "outputs": [
      {
       "output_type": "stream",
       "stream": "stdout",
       "text": [
        "\n",
        "\n",
        "The first eigenvector is [-0.45970084 -0.62796303].\n",
        "\n",
        "\n",
        "The second eigenvector is [-0.88807383  0.32505758].\n",
        "\n",
        "\n"
       ]
      }
     ],
     "prompt_number": 75
    },
    {
     "cell_type": "markdown",
     "metadata": {},
     "source": [
      "## Problem 4.21"
     ]
    },
    {
     "cell_type": "code",
     "collapsed": false,
     "input": [
      "M = np.array([[1, 0],[0, 1]])\n",
      "K = np.array([[2, -1],[-1, 3]])\n",
      "\n",
      "eigenvals, eigenvects = linalg.eigh(K,M)\n",
      "\n",
      "print '\\n'\n",
      "print 'The resulting eigenalues are {:.2f} and {:.2f}.'.format(eigenvals[0], eigenvals[1])\n",
      "print '\\n'\n",
      "print 'So the two natrual frequencies are {:.2f}rad/s and {:.2f}rad/s.'.format(np.sqrt(eigenvals[0]), np.sqrt(eigenvals[1]))\n",
      "print '\\n'\n",
      "print 'The first eigenvector is ' + str(eigenvects[:,0]) + '.'\n",
      "print '\\n'\n",
      "print 'The second eigenvector is ' + str(eigenvects[:,1]) + '.'\n",
      "print '\\n'"
     ],
     "language": "python",
     "metadata": {},
     "outputs": [
      {
       "output_type": "stream",
       "stream": "stdout",
       "text": [
        "\n",
        "\n",
        "The resulting eigenalues are 1.38 and 3.62.\n",
        "\n",
        "\n",
        "So the two natrual frequencies are 1.18rad/s and 1.90rad/s.\n",
        "\n",
        "\n",
        "The first eigenvector is [-0.85065081 -0.52573111].\n",
        "\n",
        "\n",
        "The second eigenvector is [-0.52573111  0.85065081].\n",
        "\n",
        "\n"
       ]
      }
     ],
     "prompt_number": 76
    },
    {
     "cell_type": "markdown",
     "metadata": {},
     "source": [
      "## Problem 4.33"
     ]
    },
    {
     "cell_type": "code",
     "collapsed": false,
     "input": [
      "k22 = sympy.symbols('k22')\n",
      "\n",
      "M = sympy.Matrix([[2.0/16, 1.0/16], [1.0/16, 5.0/32]])\n",
      "K = sympy.Matrix([[26.0/32, 3.0/32],[3.0/32, k22]])\n",
      "\n",
      "X1 = sympy.Matrix([[1.0],[2.0]])\n",
      "X2 = sympy.Matrix([[-3.0],[2.0]])\n",
      "\n",
      "sympy.solve(X1.transpose()*K*X2,k22)\n",
      "\n"
     ],
     "language": "python",
     "metadata": {},
     "outputs": [
      {
       "latex": [
        "$$\\begin{Bmatrix}k_{22} : 0.703125\\end{Bmatrix}$$"
       ],
       "metadata": {},
       "output_type": "pyout",
       "png": "[encoded data removed]",
       "prompt_number": 124,
       "text": [
        "{k\u2082\u2082: 0.703125}"
       ]
      }
     ],
     "prompt_number": 124
    },
    {
     "cell_type": "markdown",
     "metadata": {},
     "source": [
      "## Problem 4.39"
     ]
    },
    {
     "cell_type": "code",
     "collapsed": false,
     "input": [
      "# Now, let's solve it numerically\n",
      "m1 = 4.0\n",
      "m2 = 20.0\n",
      "m3 = 2.0\n",
      "\n",
      "k1 = 14.0\n",
      "k2 = 2.0\n",
      "k3 = 6.0\n",
      "k4 = 2.0\n",
      "\n",
      "M = np.array([[m1, 0, 0], [0, m2, 0], [0, 0, m3]])\n",
      "K = np.array([[k1+k2, -k2, 0],[-k2, k2+k3, -k3],[0, -k3, k3+k4]])"
     ],
     "language": "python",
     "metadata": {},
     "outputs": [],
     "prompt_number": 77
    },
    {
     "cell_type": "code",
     "collapsed": false,
     "input": [
      "# In this case, we should get three modes (3 eigenvectors and 3 eigenvalues)\n",
      "eigenvals, eigenvects = linalg.eigh(K,M)\n",
      "\n",
      "print '\\n'\n",
      "print 'The resulting eigenalues are {:.2f}, {:.2f}, and {:.2f}.'.format(eigenvals[0], eigenvals[1], eigenvals[2])\n",
      "print '\\n'\n",
      "print 'So the natrual frequencies are {:.2f}rad/s, {:.2f}rad/s, and {:.2f}rad/s.'.format(np.sqrt(eigenvals[0]), np.sqrt(eigenvals[1]), np.sqrt(eigenvals[2]))\n",
      "print '\\n'\n",
      "print 'The first eigevector is '\n",
      "print np.array_str(eigenvects[:,0], precision=4, suppress_small=True)\n",
      "print '\\n'\n",
      "print 'The second eigevector is '\n",
      "print np.array_str(eigenvects[:,1], precision=4, suppress_small=True)\n",
      "print '\\n'\n",
      "print 'The third eigevector is '\n",
      "print np.array_str(eigenvects[:,2], precision=4, suppress_small=True)\n",
      "print '\\n'"
     ],
     "language": "python",
     "metadata": {},
     "outputs": [
      {
       "output_type": "stream",
       "stream": "stdout",
       "text": [
        "\n",
        "\n",
        "The resulting eigenalues are 0.15, 4.00, and 4.25.\n",
        "\n",
        "\n",
        "So the natrual frequencies are 0.39rad/s, 2.00rad/s, and 2.06rad/s.\n",
        "\n",
        "\n",
        "The first eigevector is \n",
        "[-0.0282 -0.2168 -0.169 ]\n",
        "\n",
        "\n",
        "The second eigevector is \n",
        "[-0.4867 -0.      0.1622]\n",
        "\n",
        "\n",
        "The third eigevector is \n",
        "[ 0.1112 -0.0549  0.6672]\n",
        "\n",
        "\n"
       ]
      }
     ],
     "prompt_number": 78
    },
    {
     "cell_type": "markdown",
     "metadata": {},
     "source": [
      "## Problem 4.60"
     ]
    },
    {
     "cell_type": "code",
     "collapsed": false,
     "input": [
      "# Now, let's solve it numerically\n",
      "m1 = 0.4\n",
      "m2 = 0.8\n",
      "\n",
      "k = 3000.0\n",
      "\n",
      "M = np.array([[m1, 0],[0, m2]])\n",
      "K = np.array([[k, -k],[-k, k]])\n",
      "\n",
      "eigenvals, eigenvects = linalg.eigh(K,M)\n",
      "\n",
      "print '\\n'\n",
      "print 'The resulting eigenalues are {:.2f} and {:.2f}.'.format(eigenvals[0], eigenvals[1])\n",
      "print '\\n'\n",
      "print 'So the two natrual frequencies are {:.2f}rad/s and {:.2f}rad/s.'.format(np.sqrt(eigenvals[0]), np.sqrt(eigenvals[1]))\n",
      "print '\\n'\n",
      "print 'The first eigevector is '\n",
      "print np.array_str(eigenvects[:,0], precision=4, suppress_small=True)\n",
      "print '\\n'\n",
      "print 'The second eigevector is '\n",
      "print np.array_str(eigenvects[:,1], precision=4, suppress_small=True)\n",
      "print '\\n'"
     ],
     "language": "python",
     "metadata": {},
     "outputs": [
      {
       "output_type": "stream",
       "stream": "stdout",
       "text": [
        "\n",
        "\n",
        "The resulting eigenalues are -0.00 and 11250.00.\n",
        "\n",
        "\n",
        "So the two natrual frequencies are nanrad/s and 106.07rad/s.\n",
        "\n",
        "\n",
        "The first eigevector is \n",
        "[-0.9129 -0.9129]\n",
        "\n",
        "\n",
        "The second eigevector is \n",
        "[-1.291   0.6455]\n",
        "\n",
        "\n"
       ]
      }
     ],
     "prompt_number": 79
    },
    {
     "cell_type": "code",
     "collapsed": false,
     "input": [
      "w_vib_absorb = np.sqrt(k/m1)\n",
      "\n",
      "print 'The 2nd mass is stationary at {:.2f}rad/s' .format(w_vib_absorb)"
     ],
     "language": "python",
     "metadata": {},
     "outputs": [
      {
       "output_type": "stream",
       "stream": "stdout",
       "text": [
        "The 2nd mass is stationary at 86.60rad/s\n"
       ]
      }
     ],
     "prompt_number": 80
    },
    {
     "cell_type": "code",
     "collapsed": false,
     "input": [
      "# To check this we can look at the frequency response of this system\n",
      "f = 1.0\n",
      "\n",
      "F = [0,f]\n",
      "\n",
      "w = np.linspace(0.01,200,5000)\n",
      "X = np.zeros((len(w),2))\n",
      "\n",
      "# This is (K-w^2 M)^-1 * F\n",
      "for ii, freq in enumerate(w):\n",
      "    X[ii,:] = np.dot(linalg.inv(K - freq**2 * M), F)\n",
      "\n",
      "# # Let's mask the discontinuity, so it isn't plotted\n",
      "# pos = np.where(np.abs(X[:,0]) >= 0.25)\n",
      "# X[pos,:] = np.nan\n",
      "# w[pos] = np.nan"
     ],
     "language": "python",
     "metadata": {},
     "outputs": [],
     "prompt_number": 81
    },
    {
     "cell_type": "code",
     "collapsed": false,
     "input": [
      "# Now plot the magnitude of the response\n",
      "# Set the plot size - 3x2 aspect ratio is best\n",
      "fig = figure(figsize=(6,4))\n",
      "ax = gca()\n",
      "subplots_adjust(bottom=0.17,left=0.17,top=0.96,right=0.96)\n",
      "\n",
      "# Change the axis units to CMU Serif\n",
      "setp(ax.get_ymajorticklabels(),family='serif',fontsize=18)\n",
      "setp(ax.get_xmajorticklabels(),family='serif',fontsize=18)\n",
      "\n",
      "ax.spines['right'].set_color('none')\n",
      "ax.spines['top'].set_color('none')\n",
      "\n",
      "ax.xaxis.set_ticks_position('bottom')\n",
      "ax.yaxis.set_ticks_position('left')\n",
      "\n",
      "# Turn on the plot grid and set appropriate linestyle and color\n",
      "ax.grid(True,linestyle=':',color='0.75')\n",
      "ax.set_axisbelow(True)\n",
      "\n",
      "# Define the X and Y axis labels\n",
      "xlabel('Frequency (rad/s)',family='serif',fontsize=22,weight='bold',labelpad=5)\n",
      "ylabel('Magnitude',family='serif',fontsize=22,weight='bold',labelpad=10)\n",
      "\n",
      "plot(w,np.abs(X[:,0]),linewidth=2,label=r'$|\\bar{x}_1|$')\n",
      "plot(w,np.abs(X[:,1]),linewidth=2,linestyle=\"--\",label=r'$|\\bar{x}_2|$')\n",
      "\n",
      "# uncomment below and set limits if needed\n",
      "# xlim(1.4,4.5)\n",
      "ylim(-0.001,0.05)\n",
      "\n",
      "# Create the legend, then fix the fontsize\n",
      "leg = legend(loc='upper right', fancybox=True)\n",
      "ltext  = leg.get_texts()\n",
      "setp(ltext,family='serif',fontsize=16)\n",
      "\n",
      "# Adjust the page layout filling the page using the new tight_layout command\n",
      "tight_layout(pad=0.5)\n",
      "\n",
      "# save the figure as a high-res pdf in the current folder\n",
      "# savefig('Problem4p60.pdf')"
     ],
     "language": "python",
     "metadata": {},
     "outputs": [
      {
       "metadata": {},
       "output_type": "display_data",
       "png": "[encoded data removed]",
       "text": [
        "<matplotlib.figure.Figure at 0x10e2bc750>"
       ]
      }
     ],
     "prompt_number": 82
    },
    {
     "cell_type": "markdown",
     "metadata": {},
     "source": [
      "Notice that the peaks occur at the natural frequencies of the system as we'd expect.\n",
      "\n",
      "Let's look where $|x_2|$ is minimum and find the frequecny at which this minimum occurs. It should be zero."
     ]
    },
    {
     "cell_type": "code",
     "collapsed": false,
     "input": [
      "x2_min = np.min(np.abs(X[:,1]))\n",
      "\n",
      "print r'The minimum value of |x2| is {:.2f}'.format(np.min(np.abs(X[:,1])))"
     ],
     "language": "python",
     "metadata": {},
     "outputs": [
      {
       "output_type": "stream",
       "stream": "stdout",
       "text": [
        "The minimum value of |x2| is 0.00\n"
       ]
      }
     ],
     "prompt_number": 83
    },
    {
     "cell_type": "code",
     "collapsed": false,
     "input": [
      "# Now, get the argument at which this minimum occurs\n",
      "x2_min_arg = np.argmin(np.abs(X[:,1]))\n",
      "\n",
      "# Then, get the frequency that occurs at that index\n",
      "\n",
      "print r'The frequency at which |x2| is stationary is {:.2f} rad/s.'.format(w[x2_min_arg])"
     ],
     "language": "python",
     "metadata": {},
     "outputs": [
      {
       "output_type": "stream",
       "stream": "stdout",
       "text": [
        "The frequency at which |x2| is stationary is 86.58 rad/s.\n"
       ]
      }
     ],
     "prompt_number": 84
    },
    {
     "cell_type": "markdown",
     "metadata": {},
     "source": [
      "## Problem 4.82"
     ]
    },
    {
     "cell_type": "code",
     "collapsed": false,
     "input": [
      "M = np.array([[10.0, 0, 8.0], [0, 12.0, 0], [8.0, 0, 34.0]])\n",
      "K = np.array([[10.0, 0, 0],[0, 200.0, 0],[0, 0, 16.0]])"
     ],
     "language": "python",
     "metadata": {},
     "outputs": [],
     "prompt_number": 85
    },
    {
     "cell_type": "code",
     "collapsed": false,
     "input": [
      "# In this case, we should get three modes (3 eigenvectors and 3 eigenvalues)\n",
      "eigenvals, eigenvects = linalg.eigh(K,M)\n",
      "\n",
      "print '\\n'\n",
      "print 'The resulting eigenalues are {:.2f}, {:.2f}, and {:.2f}.'.format(eigenvals[0], eigenvals[1], eigenvals[2])\n",
      "print '\\n'\n",
      "print 'So the natrual frequencies are {:.2f}rad/s, {:.2f}rad/s, and {:.2f}rad/s.'.format(np.sqrt(eigenvals[0]), np.sqrt(eigenvals[1]), np.sqrt(eigenvals[2]))\n",
      "print '\\n'\n",
      "print 'The first eigevector is '\n",
      "print np.array_str(eigenvects[:,0], precision=4, suppress_small=True)\n",
      "print '\\n'\n",
      "print 'The second eigevector is '\n",
      "print np.array_str(eigenvects[:,1], precision=4, suppress_small=True)\n",
      "print '\\n'\n",
      "print 'The third eigevector is '\n",
      "print np.array_str(eigenvects[:,2], precision=4, suppress_small=True)\n",
      "print '\\n'"
     ],
     "language": "python",
     "metadata": {},
     "outputs": [
      {
       "output_type": "stream",
       "stream": "stdout",
       "text": [
        "\n",
        "\n",
        "The resulting eigenalues are 0.42, 1.40, and 16.67.\n",
        "\n",
        "\n",
        "So the natrual frequencies are 0.64rad/s, 1.18rad/s, and 4.08rad/s.\n",
        "\n",
        "\n",
        "The first eigevector is \n",
        "[-0.0834  0.     -0.1469]\n",
        "\n",
        "\n",
        "The second eigevector is \n",
        "[-0.3409  0.      0.121 ]\n",
        "\n",
        "\n",
        "The third eigevector is \n",
        "[ 0.      0.2887  0.    ]\n",
        "\n",
        "\n"
       ]
      }
     ],
     "prompt_number": 86
    },
    {
     "cell_type": "code",
     "collapsed": false,
     "input": [
      "# Most software packages return the eigenvalues in normalized form\n",
      "U = eigenvects"
     ],
     "language": "python",
     "metadata": {},
     "outputs": [
      {
       "metadata": {},
       "output_type": "pyout",
       "prompt_number": 87,
       "text": [
        "array([[-0.0834399 , -0.34091962,  0.        ],\n",
        "       [ 0.        ,  0.        ,  0.28867513],\n",
        "       [-0.14694891,  0.1209872 ,  0.        ]])"
       ]
      }
     ],
     "prompt_number": 87
    },
    {
     "cell_type": "code",
     "collapsed": false,
     "input": [
      "M_prime = np.dot(np.dot(U.T,M),U)\n",
      "K_prime = np.dot(np.dot(U.T,K),U)"
     ],
     "language": "python",
     "metadata": {},
     "outputs": [],
     "prompt_number": 96
    },
    {
     "cell_type": "code",
     "collapsed": false,
     "input": [
      "print 'The decoupled interia matrix is: \\n' + np.array_str(M_prime, precision=4, suppress_small=True)\n",
      "print '\\n'\n",
      "print 'The decoupled stiffness matrix is: \\n' + np.array_str(K_prime, precision=4, suppress_small=True)"
     ],
     "language": "python",
     "metadata": {},
     "outputs": [
      {
       "output_type": "stream",
       "stream": "stdout",
       "text": [
        "The decoupled interia matrix is: \n",
        "[[ 1.  0.  0.]\n",
        " [ 0.  1.  0.]\n",
        " [ 0.  0.  1.]]\n",
        "\n",
        "\n",
        "The decoupled stiffness matrix is: \n",
        "[[  0.4151   0.       0.    ]\n",
        " [  0.       1.3965   0.    ]\n",
        " [  0.       0.      16.6667]]\n"
       ]
      }
     ],
     "prompt_number": 101
    },
    {
     "cell_type": "markdown",
     "metadata": {},
     "source": [
      "Notice the these match the form that they should. The mass matrix dcouples to identity and the stiffness matrix has the eigenvalues on teh diagonal."
     ]
    },
    {
     "cell_type": "code",
     "collapsed": false,
     "input": [],
     "language": "python",
     "metadata": {},
     "outputs": []
    }
   ],
   "metadata": {}
  }
 ]
}
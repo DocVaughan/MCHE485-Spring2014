{
 "metadata": {
  "name": ""
 },
 "nbformat": 3,
 "nbformat_minor": 0,
 "worksheets": [
  {
   "cells": [
    {
     "cell_type": "markdown",
     "metadata": {},
     "source": [
      "<h1 style=\"text-align:center\">Undamped Response to Harmonic Direct-Force Inputs</h1>\n",
      "<h3 style=\"text-align:center\"> MCHE 485: Mechanical Vibrations &mdash; Spring 2014</h2> \n",
      "<p style=\"text-align:center\">Dr. Joshua Vaughan <br>\n",
      "<a href=\"mailto:joshua.vaughan@louisiana.edu\">joshua.vaughan@louisiana.edu</a><br>\n",
      "http://www.ucs.louisiana.edu/~jev9637/   </p>"
     ]
    },
    {
     "cell_type": "markdown",
     "metadata": {},
     "source": [
      "<p style=\"text-align:center\">\n",
      "\t<img src=\"http://shared.crawlab.org/MassSpring_DirectForce_Horiz.png\" alt=\"A Mass-Spring-Damper System\" width=50%></a><br>\n",
      "    <strong> Figure 1: A Mass-Spring System </strong>\n",
      "</p>\n",
      "\n",
      "This notebook examines the frequency response of a simple mass-spring system like the one shown in Figure 1 to a harmonic, direct-force input.\n",
      "\n",
      "The equation of motion for the system is:\n",
      "\n",
      "<!-- the \\quad commmand just adds a space in the math mode -->\n",
      "$ \\quad m \\ddot{x} + kx = f $\n",
      "\n",
      "We could also write this equation in terms of the damping ratio, $\\zeta$, and natural frequency, $\\omega_n$.\n",
      "\n",
      "$ \\quad \\ddot{x} + \\omega_n^2x = \\frac{f}{m}$\n",
      "\n",
      "For information on how to obtain this equation, you can see the lectures at the [class website](http://www.ucs.louisiana.edu/~jev9637/MCHE485.html)."
     ]
    },
    {
     "cell_type": "code",
     "collapsed": false,
     "input": [
      "import numpy as np              # Grab all of the NumPy functions with nickname np"
     ],
     "language": "python",
     "metadata": {},
     "outputs": [],
     "prompt_number": 1
    },
    {
     "cell_type": "code",
     "collapsed": false,
     "input": [
      "# We want our plots to be displayed inline, not in a separate window\n",
      "%pylab inline"
     ],
     "language": "python",
     "metadata": {},
     "outputs": [
      {
       "output_type": "stream",
       "stream": "stdout",
       "text": [
        "Populating the interactive namespace from numpy and matplotlib\n"
       ]
      }
     ],
     "prompt_number": 2
    },
    {
     "cell_type": "code",
     "collapsed": false,
     "input": [
      "# Define the System Parameters\n",
      "m = 1.0                 # kg\n",
      "k = (2.*np.pi)**2.      # N/m (Selected to give an undamped natrual frequency of 1Hz)\n",
      "wn = np.sqrt(k/m)       # Natural Frequency (rad/s)"
     ],
     "language": "python",
     "metadata": {},
     "outputs": [],
     "prompt_number": 3
    },
    {
     "cell_type": "markdown",
     "metadata": {},
     "source": [
      "Let's use the closed-form, steady-state solution we developed in lecture:\n",
      "\n",
      "Assume:\n",
      "\n",
      "$ \\quad f(t) = \\bar{f} \\sin{\\omega t} $\n",
      "\n",
      "Then, the solution $x(t)$ should have the form:\n",
      "\n",
      "$ \\quad x(t) = \\bar{x} \\sin{\\omega t} $\n",
      "\n",
      "We can then find the amplitude of the frequency response, $ \\bar{x} $, as a function of of the frequency of the input, $ \\omega $, and the amplitude of the force, $ \\bar{f} $. \n",
      "\n",
      "$ \\quad \\bar{x} = \\frac{\\bar{f}}{m} \\left(\\frac{1}{\\omega_n^2 - \\omega^2}\\right) $\n",
      "\n",
      "So, \n",
      "\n",
      "$ \\quad x(t) = \\frac{\\bar{f}}{m} \\left(\\frac{1}{\\omega_n^2 - \\omega^2}\\right)  \\sin{\\omega t} $\n",
      "\n",
      "or \n",
      "\n",
      "$ \\quad x(t) = \\frac{1}{m} \\left(\\frac{1}{\\omega_n^2 - \\omega^2} \\right) f(t) $\n",
      "\n",
      "So, $ \\left(\\frac{1/m}{\\omega_n^2 - \\omega^2} \\right) $ gives us the relationship between the input $ f(t) $ and the system response $ x(t) $. Let's plot that for a range of frequencies."
     ]
    },
    {
     "cell_type": "code",
     "collapsed": false,
     "input": [
      "# Set up input parameters\n",
      "w = np.linspace(0,wn*3,1000)            # Frequency range for freq response plot, 0-3x wn with 1000 points in-between\n",
      "\n",
      "x_amp = (1/m) / (wn**2 - w**2)\n",
      "\n",
      "# Let's mask the discontinuity, so it isn't plotted\n",
      "pos = np.where(np.abs(x_amp) >= 5)\n",
      "x_amp[pos] = np.nan\n",
      "w[pos] = np.nan"
     ],
     "language": "python",
     "metadata": {},
     "outputs": [],
     "prompt_number": 5
    },
    {
     "cell_type": "code",
     "collapsed": false,
     "input": [
      "# Make the figure pretty, then plot the results\n",
      "#   \"pretty\" parameters selected based on pdf output, not screen output\n",
      "#   Many of these setting could also be made default by the .matplotlibrc file\n",
      "fig = figure(figsize=(6,4))\n",
      "ax = gca()\n",
      "subplots_adjust(bottom=0.2,left=0.15,top=0.96,right=0.96)\n",
      "setp(ax.get_ymajorticklabels(),family='serif',fontsize=18)\n",
      "setp(ax.get_xmajorticklabels(),family='serif',fontsize=18)\n",
      "ax.spines['right'].set_color('none')\n",
      "ax.spines['top'].set_color('none')\n",
      "ax.xaxis.set_ticks_position('bottom')\n",
      "ax.yaxis.set_ticks_position('left')\n",
      "ax.grid(True,linestyle=':',color='0.75')\n",
      "ax.set_axisbelow(True)\n",
      "\n",
      "xlabel(r'Input Frequency $\\left(\\omega\\right)$',family='serif',fontsize=22,weight='bold',labelpad=10)\n",
      "ylabel(r'$ \\frac{1}{m\\left(\\omega_n^2 - \\omega^2\\right)} $',family='serif',fontsize=22,weight='bold',labelpad=10)\n",
      "ylim(-1.0,1.0)\n",
      "xticks([1],['$\\omega = \\omega_n'])\n",
      "yticks([0])\n",
      "\n",
      "\n",
      "plot(w/wn,x_amp,linewidth=2)\n",
      "\n",
      "# If you want to save the figure, uncomment the commands below. \n",
      "# The figure will be saved in the same directory as your IPython Notebook.\n",
      "# Save the figure as a high-res pdf in the current folder\n",
      "# savefig('MassSpring_ForcedFreqResp_Amplitude.pdf',dpi=300)"
     ],
     "language": "python",
     "metadata": {},
     "outputs": [
      {
       "metadata": {},
       "output_type": "display_data",
       "png": "[encoded data removed]",
       "text": [
        "<matplotlib.figure.Figure at 0x107f9b5d0>"
       ]
      }
     ],
     "prompt_number": 6
    },
    {
     "cell_type": "markdown",
     "metadata": {},
     "source": [
      "### Normalization\n",
      "Just as we did for seismic inputs, we can also normalize the frequency response by dividing both the numerator and denominator of the expression for $\\bar{x}$ by the natural frequency $ \\omega_n $. We find that:\n",
      "\n",
      "$ \\quad \\bar{x} = \\frac{\\bar{f}}{m \\omega_n^2 \\left( 1 - \\Omega^2\\right)}$\n",
      "\n",
      "As a final normalization step, we can normalize the amplitude by plotting $\\frac{m \\omega_n^2}{\\bar{f}} \\bar{x}$ as a function of $\\Omega$."
     ]
    },
    {
     "cell_type": "code",
     "collapsed": false,
     "input": [
      "# Set up input parameters\n",
      "wnorm = np.linspace(0,4,500)            # Frequency range for freq response plot, 0-4 Omega with 500 points in-between\n",
      "\n",
      "x_amp = 1 / ((wn**2 * m) * (1 - wnorm**2))\n",
      "xnorm_amp = x_amp * (m * wn**2)\n",
      "\n",
      "# Let's mask the discontinuity, so it isn't plotted\n",
      "pos = np.where(np.abs(xnorm_amp) >= 100)\n",
      "xnorm_amp[pos] = np.nan\n",
      "wnorm[pos] = np.nan"
     ],
     "language": "python",
     "metadata": {},
     "outputs": [],
     "prompt_number": 7
    },
    {
     "cell_type": "code",
     "collapsed": false,
     "input": [
      "# Make the figure pretty, then plot the results\n",
      "#   \"pretty\" parameters selected based on pdf output, not screen output\n",
      "#   Many of these setting could also be made default by the .matplotlibrc file\n",
      "fig = figure(figsize=(6,4))\n",
      "ax = gca()\n",
      "subplots_adjust(bottom=0.2,left=0.15,top=0.96,right=0.96)\n",
      "setp(ax.get_ymajorticklabels(),family='serif',fontsize=18)\n",
      "setp(ax.get_xmajorticklabels(),family='serif',fontsize=18)\n",
      "ax.spines['right'].set_color('none')\n",
      "ax.spines['top'].set_color('none')\n",
      "ax.xaxis.set_ticks_position('bottom')\n",
      "ax.yaxis.set_ticks_position('left')\n",
      "ax.grid(True,linestyle=':',color='0.75')\n",
      "ax.set_axisbelow(True)\n",
      "\n",
      "xlabel(r'Normalized Frequency $\\left(\\Omega\\right)$',family='serif',fontsize=22,weight='bold',labelpad=10)\n",
      "ylabel(r'$\\frac{m \\omega_n^2}{\\bar{f}} \\bar{x}$',family='serif',fontsize=22,weight='bold',labelpad=10)\n",
      "ylim(-4.0,4.0)\n",
      "xticks([0,1],['0','1'])\n",
      "yticks([0,1])\n",
      "\n",
      "plot(wnorm,xnorm_amp,linewidth=2)\n",
      "\n",
      "# If you want to save the figure, uncomment the commands below. \n",
      "# The figure will be saved in the same directory as your IPython notebook.\n",
      "# Save the figure as a high-res pdf in the current folder\n",
      "# savefig('MassSpring_ForcedFreqResp_NormAmp.pdf',dpi=300)"
     ],
     "language": "python",
     "metadata": {},
     "outputs": [
      {
       "metadata": {},
       "output_type": "display_data",
       "png": "[encoded data removed]",
       "text": [
        "<matplotlib.figure.Figure at 0x107f9b1d0>"
       ]
      }
     ],
     "prompt_number": 8
    }
   ],
   "metadata": {}
  }
 ]
}
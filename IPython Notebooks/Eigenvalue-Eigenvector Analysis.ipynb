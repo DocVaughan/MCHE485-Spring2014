{
 "metadata": {
  "name": "",
  "signature": "sha256:04cae7721b711f9ff0268d12aef899b807694e5cf9ca6af49d8869f0fee96148"
 },
 "nbformat": 3,
 "nbformat_minor": 0,
 "worksheets": [
  {
   "cells": [
    {
     "cell_type": "markdown",
     "metadata": {},
     "source": [
      "<h1 style=\"text-align:center\">Eigenvalue/Eigenvector Analysis</h1>\n",
      "<h3 style=\"text-align:center\">MCHE 485: Mechanical Vibrations &mdash; Spring 2014</h3> \n",
      "<p style=\"text-align:center\">Dr. Joshua Vaughan <br>\n",
      "<a href=\"mailto:joshua.vaughan@louisiana.edu\">joshua.vaughan@louisiana.edu</a><br>\n",
      "http://www.ucs.louisiana.edu/~jev9637/   </p>"
     ]
    },
    {
     "cell_type": "markdown",
     "metadata": {},
     "source": [
      "<p style=\"text-align:center\">\n",
      "\t<img src=\"http://shared.crawlab.org/TwoMass_3spring.png\" alt=\"A Two-Mass-Spring System\" width=50%/></a><br>\n",
      "    <strong> Figure 1: A Two-Mass-Spring System</strong>\n",
      "</p>\n",
      "\n",
      "This notebook demonstrates the eigenvalue/eigenvector problem using a two-mass-spring-damper system shown in Figure 1. We'll just look at one example set of parameters. The same techniques apply for other parameters and for larger matrices. \n",
      "\n",
      "The equations of motion for the system are:\n",
      "\n",
      "$ \\quad m_1 \\ddot{x}_1 + (k_1+k_2)x_1 - k_2 x_2 = 0 $\n",
      "\n",
      "$ \\quad m_2 \\ddot{x}_2 -k_2 x_1 +(k_2 + k_3)x_2 = 0 $\n",
      "\n",
      "We could also write these equations in matrix form:\n",
      "\n",
      "$ \\quad \\begin{bmatrix}m_1 & 0 \\\\ 0 & m_2\\end{bmatrix}\\begin{bmatrix}\\ddot{x}_1 \\\\ \\ddot{x}_2\\end{bmatrix} + \\begin{bmatrix}k_1 + k_2 & -k_2 \\\\ -k_2 & k_2 + k_3\\end{bmatrix}\\begin{bmatrix}x_1 \\\\ x_2\\end{bmatrix} = \\begin{bmatrix}0 \\\\ 0\\end{bmatrix}$\n",
      "\n",
      "Define\n",
      "\n",
      "$ \\quad M = \\begin{bmatrix}m_1 & 0 \\\\ 0 & m_2\\end{bmatrix} $\n",
      "\n",
      "and \n",
      "\n",
      "$ \\quad K = \\begin{bmatrix}k_1 + k_2 & -k_2 \\\\ -k_2 & k_2 + k_3\\end{bmatrix} $\n",
      "\n",
      "Using $M$ and $K$, we want to solve:\n",
      "\n",
      "$ \\quad \\left[K - \\omega^2 M\\right]\\bar{X} = 0 $ \n",
      "\n",
      "for $\\bar{X}$. This is an eigenvalue problem.\n",
      "\n",
      "For information on how to obtain these equations, you can see the lectures at the [class website](http://www.ucs.louisiana.edu/~jev9637/MCHE485.html).\n",
      "\n",
      "We'll use the [Scipy version of the linear algebra module](http://docs.scipy.org/doc/scipy-0.13.0/reference/generated/scipy.linalg.eigh.html). It allows us to solve the \"general\" eignevalue problem."
     ]
    },
    {
     "cell_type": "code",
     "collapsed": false,
     "input": [
      "import numpy as np"
     ],
     "language": "python",
     "metadata": {},
     "outputs": [],
     "prompt_number": 1
    },
    {
     "cell_type": "code",
     "collapsed": false,
     "input": [
      "%matplotlib inline\n",
      "from matplotlib.pylab import *"
     ],
     "language": "python",
     "metadata": {},
     "outputs": [],
     "prompt_number": 2
    },
    {
     "cell_type": "markdown",
     "metadata": {},
     "source": [
      "To see how to solve this eigenvalue problem, we will use the parameters from the example in the book, set up below. All three spring constants are equal and the two masses are equal."
     ]
    },
    {
     "cell_type": "code",
     "collapsed": false,
     "input": [
      "# Define the matrices\n",
      "m1 = 1.0\n",
      "m2 = 1.0\n",
      "\n",
      "k1 = 4.0 \n",
      "k2 = 4.0\n",
      "k3 = 4.0\n",
      "\n",
      "M = np.asarray([[m1, 0],\n",
      "                [0,  m2]])\n",
      "\n",
      "K = np.asarray([[k1 + k2, -k2],\n",
      "                [-k2,      k2 + k3]])"
     ],
     "language": "python",
     "metadata": {},
     "outputs": [],
     "prompt_number": 3
    },
    {
     "cell_type": "code",
     "collapsed": false,
     "input": [
      "# We'll use the scipy version of the linear algebra\n",
      "from scipy import linalg\n",
      "\n",
      "eigenvals, eigenvects = linalg.eigh(K,M)"
     ],
     "language": "python",
     "metadata": {},
     "outputs": [],
     "prompt_number": 4
    },
    {
     "cell_type": "markdown",
     "metadata": {},
     "source": [
      "\n",
      "The linalg.eigh function returns two arrays, one of the eigenvalues and one of the eigenvectors. The eigenvalues are the square of the two natural frequencies. The eigenvectors are returned in normalized form, with each ''row'' of the array representing an eigenvector.\n"
     ]
    },
    {
     "cell_type": "code",
     "collapsed": false,
     "input": [
      "print '\\n'\n",
      "print 'The resulting eigenalues are {:.2f} and {:.2f}.'.format(eigenvals[0], eigenvals[1])\n",
      "print '\\n'\n",
      "print 'So the two natrual frequencies are {:.2f}rad/s and {:.2f}rad/s.'.format(np.sqrt(eigenvals[0]), np.sqrt(eigenvals[1]))\n",
      "print '\\n'"
     ],
     "language": "python",
     "metadata": {},
     "outputs": [
      {
       "output_type": "stream",
       "stream": "stdout",
       "text": [
        "\n",
        "\n",
        "The resulting eigenalues are 4.00 and 12.00.\n",
        "\n",
        "\n",
        "So the two natrual frequencies are 2.00rad/s and 3.46rad/s.\n",
        "\n",
        "\n"
       ]
      }
     ],
     "prompt_number": 5
    },
    {
     "cell_type": "code",
     "collapsed": false,
     "input": [
      "print '\\n'\n",
      "print 'The first eigenvector is ' + str(eigenvects[:,0]) + '.'\n",
      "print '\\n'\n",
      "print 'The second eigenvector is ' + str(eigenvects[:,1]) + '.'\n",
      "print '\\n'"
     ],
     "language": "python",
     "metadata": {},
     "outputs": [
      {
       "output_type": "stream",
       "stream": "stdout",
       "text": [
        "\n",
        "\n",
        "The first eigenvector is [-0.70710678 -0.70710678].\n",
        "\n",
        "\n",
        "The second eigenvector is [-0.70710678  0.70710678].\n",
        "\n",
        "\n"
       ]
      }
     ],
     "prompt_number": 6
    }
   ],
   "metadata": {}
  }
 ]
}
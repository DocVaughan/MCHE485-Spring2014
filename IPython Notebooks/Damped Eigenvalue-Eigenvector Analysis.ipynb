{
 "metadata": {
  "name": "",
  "signature": "sha256:768bb9efd9a5c30d14672d16bfa19b2d519bd2a980847ad3fe0a8b081e62acdb"
 },
 "nbformat": 3,
 "nbformat_minor": 0,
 "worksheets": [
  {
   "cells": [
    {
     "cell_type": "markdown",
     "metadata": {},
     "source": [
      "<h1 style=\"text-align:center\">Eigenvalue/Eigenvector Analysis for Damped Systems</h1>\n",
      "<h3 style=\"text-align:center\">MCHE 485: Mechanical Vibrations &mdash; Spring 2014</h3> \n",
      "<p style=\"text-align:center\">Dr. Joshua Vaughan <br>\n",
      "<a href=\"mailto:joshua.vaughan@louisiana.edu\">joshua.vaughan@louisiana.edu</a><br>\n",
      "http://www.ucs.louisiana.edu/~jev9637/   </p>"
     ]
    },
    {
     "cell_type": "markdown",
     "metadata": {},
     "source": [
      "<p style=\"text-align:center\">\n",
      "\t<img src=\"http://shared.crawlab.org/TwoMass_3spring_Damped.png\" alt=\"A Two-Mass-Spring-Damper System\" width=50%/></a><br>\n",
      "    <strong> Figure 1: A Two-Mass-Spring-Damper System</strong>\n",
      "</p>\n",
      "\n",
      "This notebook demonstrates the eigenvalue/eigenvector problem using a two-mass-spring-damper system shown in Figure 1. We'll just look at one example set of parameters. The same techniques apply for other parameters and for larger matrices. \n",
      "\n",
      "The equations of motion for the system are:\n",
      "\n",
      "$ \\quad m_1 \\ddot{x}_1 + (c_1+c_2)\\dot{x}_1 - c_2\\dot{x}_2 + (k_1+k_2)x_1 - k_2 x_2 = 0 $\n",
      "\n",
      "$ \\quad m_2 \\ddot{x}_2 - c_2\\dot{x}_1 + (c_2 + c_3)\\dot{x}_2 - k_2 x_1 + (k_2 + k_3)x_2 = 0 $\n",
      "\n",
      "We could also write these equations in matrix form:\n",
      "\n",
      "$ \\quad \\begin{bmatrix}m_1 & 0 \\\\ 0 & m_2\\end{bmatrix}\\begin{bmatrix}\\ddot{x}_1 \\\\ \\ddot{x}_2\\end{bmatrix} + \\begin{bmatrix}c_1 + c_2 & -c_2 \\\\ -c_2 & c_2 + c_3\\end{bmatrix}\\begin{bmatrix}\\dot{x}_1 \\\\ \\dot{x}_2\\end{bmatrix} + \\begin{bmatrix}k_1 + k_2 & -k_2 \\\\ -k_2 & k_2 + k_3\\end{bmatrix}\\begin{bmatrix}x_1 \\\\ x_2\\end{bmatrix} = \\begin{bmatrix}0 \\\\ 0\\end{bmatrix}$\n",
      "\n",
      "Define\n",
      "\n",
      "$ \\quad M = \\begin{bmatrix}m_1 & 0 \\\\ 0 & m_2\\end{bmatrix} $\n",
      "\n",
      "$ \\quad C = \\begin{bmatrix}c_1 + c_2 & -c_2 \\\\ -c_2 & c_2 + c_3\\end{bmatrix} $\n",
      "\n",
      "and \n",
      "\n",
      "$ \\quad K = \\begin{bmatrix}k_1 + k_2 & -k_2 \\\\ -k_2 & k_2 + k_3\\end{bmatrix} $\n",
      "\n",
      "For information on how to obtain these equations, you can see the lectures at the [class website](http://www.ucs.louisiana.edu/~jev9637/MCHE485.html).\n",
      "\n",
      "We'll use the [Scipy version of the linear algebra module](http://docs.scipy.org/doc/scipy-0.13.0/reference/generated/scipy.linalg.eigh.html). It allows us to solve the \"general\" eignevalue problem."
     ]
    },
    {
     "cell_type": "code",
     "collapsed": false,
     "input": [
      "import numpy as np"
     ],
     "language": "python",
     "metadata": {},
     "outputs": [],
     "prompt_number": 2
    },
    {
     "cell_type": "code",
     "collapsed": false,
     "input": [
      "%matplotlib inline\n",
      "from matplotlib.pylab import *"
     ],
     "language": "python",
     "metadata": {},
     "outputs": [],
     "prompt_number": 3
    },
    {
     "cell_type": "markdown",
     "metadata": {},
     "source": [
      "## The undamped problem\n",
      "Let's look first at an undamped version of this system ($c_1 = c_2 = c_3 = 0$).\n",
      "\n",
      "For the undamped proble we can use $M$ and $K$ directly to solve:\n",
      "\n",
      "$ \\quad \\left[K - \\omega^2 M\\right]\\bar{X} = 0 $ \n",
      "\n",
      "for $\\bar{X}$. This is an eigenvalue problem.\n"
     ]
    },
    {
     "cell_type": "code",
     "collapsed": false,
     "input": [
      "# Define the matrices\n",
      "m1 = 1.0\n",
      "m2 = 1.0\n",
      "\n",
      "k1 = 1.0 \n",
      "k2 = 1.0\n",
      "k3 = 1.0\n",
      "\n",
      "M = np.asarray([[m1, 0],\n",
      "                [0,  m2]])\n",
      "\n",
      "K = np.asarray([[k1 + k2, -k2],\n",
      "                [-k2,      k2 + k3]])"
     ],
     "language": "python",
     "metadata": {},
     "outputs": [],
     "prompt_number": 69
    },
    {
     "cell_type": "code",
     "collapsed": false,
     "input": [
      "# We'll use the scipy version of the linear algebra\n",
      "from scipy import linalg\n",
      "\n",
      "eigenvals, eigenvects = linalg.eigh(K,M)"
     ],
     "language": "python",
     "metadata": {},
     "outputs": [],
     "prompt_number": 70
    },
    {
     "cell_type": "markdown",
     "metadata": {},
     "source": [
      "\n",
      "The linalg.eigh function returns two arrays, one of the eigenvalues and one of the eigenvectors. The eigenvalues are the square of the two natural frequencies. The eigenvectors are returned in normalized form, with each ''row'' of the array representing an eigenvector.\n"
     ]
    },
    {
     "cell_type": "code",
     "collapsed": false,
     "input": [
      "print '\\n'\n",
      "print 'The resulting eigenalues are {:.2f} and {:.2f}.'.format(eigenvals[0], eigenvals[1])\n",
      "print '\\n'\n",
      "print 'So the two natrual frequencies are {:.2f}rad/s and {:.2f}rad/s.'.format(np.sqrt(eigenvals[0]), np.sqrt(eigenvals[1]))\n",
      "print '\\n'"
     ],
     "language": "python",
     "metadata": {},
     "outputs": [
      {
       "output_type": "stream",
       "stream": "stdout",
       "text": [
        "\n",
        "\n",
        "The resulting eigenalues are 1.00 and 3.00.\n",
        "\n",
        "\n",
        "So the two natrual frequencies are 1.00rad/s and 1.73rad/s.\n",
        "\n",
        "\n"
       ]
      }
     ],
     "prompt_number": 71
    },
    {
     "cell_type": "code",
     "collapsed": false,
     "input": [
      "print '\\n'\n",
      "print 'The first eigenvector is ' + str(eigenvects[0,:]) + '.'\n",
      "print '\\n'\n",
      "print 'The second eigenvector is ' + str(eigenvects[1,:]) + '.'\n",
      "print '\\n'"
     ],
     "language": "python",
     "metadata": {},
     "outputs": [
      {
       "output_type": "stream",
       "stream": "stdout",
       "text": [
        "\n",
        "\n",
        "The first eigenvector is [-0.70710678 -0.70710678].\n",
        "\n",
        "\n",
        "The second eigenvector is [-0.70710678  0.70710678].\n",
        "\n",
        "\n"
       ]
      }
     ],
     "prompt_number": 72
    },
    {
     "cell_type": "markdown",
     "metadata": {},
     "source": [
      "## The Undamped Problem &mdash; State-Space Form\n",
      "We'll first solve the undamped version of this problem using the state-space form. This will show us how to approach the damped solution.\n",
      "\n"
     ]
    },
    {
     "cell_type": "code",
     "collapsed": false,
     "input": [
      "# Define a zero damping matrix\n",
      "c1 = 0.0\n",
      "c2 = 0.0\n",
      "c3 = 0.0\n",
      "\n",
      "C = np.asarray([[c1 + c2, -c2],\n",
      "                [-c2,      c2 + c3]])\n",
      "\n",
      "\n",
      "\n",
      "A = np.asarray([[0,                     1,           0,           0],\n",
      "                [-(k1+k2)/m1, -(c1+c2)/m1,       k2/m1,       c2/m1],\n",
      "                [0,                     0,           0,           1],\n",
      "                [k2/m2,             c2/m2, -(k2+k3)/m2, -(c2+c3)/m2]])\n",
      "\n",
      "\n",
      "eigenvals_ss, eigenvects_ss = linalg.eig(A)"
     ],
     "language": "python",
     "metadata": {},
     "outputs": [],
     "prompt_number": 123
    },
    {
     "cell_type": "code",
     "collapsed": false,
     "input": [
      "print '\\n'\n",
      "print 'The resulting eigenvalues are {:.4}, {:.4}, {:.4}, and {:.4}.'.format(eigenvals_ss[0], eigenvals_ss[1], eigenvals_ss[2], eigenvals_ss[3])\n",
      "print '\\n'\n",
      "\n",
      "print 'So, the resulting natural frequencies are {:.4}rad/s and {:.4}rad/s.'.format(np.abs(eigenvals_ss[2]), np.abs(eigenvals_ss[0]))\n",
      "print '\\n'"
     ],
     "language": "python",
     "metadata": {},
     "outputs": [
      {
       "output_type": "stream",
       "stream": "stdout",
       "text": [
        "\n",
        "\n",
        "The resulting eigenvalues are 1.732j, -1.732j, 1j, and -1j.\n",
        "\n",
        "\n",
        "So, the resulting natural frequencies are 1.0rad/s and 1.732rad/s.\n",
        "\n",
        "\n"
       ]
      }
     ],
     "prompt_number": 105
    },
    {
     "cell_type": "markdown",
     "metadata": {},
     "source": [
      "Now, let's format the resutling eigenvectors to allow easier comparison to the \"normal\" undamped solution"
     ]
    },
    {
     "cell_type": "code",
     "collapsed": false,
     "input": [
      "# make 1st entry real\n",
      "eigvect1_ss = eigenvects_ss[:,0] * np.exp(-1.0j * np.angle(eigenvects_ss[0,0]))\n",
      "eigvect2_ss = eigenvects_ss[:,2] * np.exp(-1.0j * np.angle(eigenvects_ss[0,2]))\n",
      "\n",
      "# scale to match the undamped\n",
      "eigvect1_ss *= (eigenvects[0,0] / eigvect1_ss[0])\n",
      "eigvect2_ss *= (eigenvects[0,1] / eigvect2_ss[0])"
     ],
     "language": "python",
     "metadata": {},
     "outputs": [],
     "prompt_number": 80
    },
    {
     "cell_type": "code",
     "collapsed": false,
     "input": [
      "print '\\n'\n",
      "print 'The first eigevector is '\n",
      "print np.array_str(eigvect1_ss, precision=4, suppress_small=True)\n",
      "print '\\n'\n",
      "print 'The second eigevector is '\n",
      "print np.array_str(eigvect2_ss, precision=4, suppress_small=True)\n",
      "print '\\n'"
     ],
     "language": "python",
     "metadata": {},
     "outputs": [
      {
       "output_type": "stream",
       "stream": "stdout",
       "text": [
        "\n",
        "\n",
        "The first eigevector is \n",
        "[-0.7071+0.j      0.0000-1.2247j  0.7071+0.j      0.0000+1.2247j]\n",
        "\n",
        "\n",
        "The second eigevector is \n",
        "[-0.7071+0.j     -0.0000-0.7071j -0.7071+0.j     -0.0000-0.7071j]\n",
        "\n",
        "\n"
       ]
      }
     ],
     "prompt_number": 150
    },
    {
     "cell_type": "markdown",
     "metadata": {},
     "source": [
      "We want to look at the entries in these vectors that correspond to the generalized coordinates $x_1$ and $x_2$. Given how we've defined our state-space formulation, the first and third states represent these. So, if we look at the first and third entries of the two eigenvectors, they should match the ones we found through the \"normal\" solution procedure earlier. "
     ]
    },
    {
     "cell_type": "markdown",
     "metadata": {},
     "source": [
      "## The Undamped Problem &mdash; Symmetric Form\n",
      "Now, let's solve the undamped version of this problem using the symmetric form. This will show us how to approach the damped solution.\n",
      "\n",
      "Using the matrices from the euqations of motion, we can define two new matrices, $A$ and $B$, by:\n",
      "\n",
      "$ \\quad A = \\left[\\begin{array}{cc}\\hphantom{-}0 & -K \\\\-K & -C\\end{array}\\right] \\ \\ \\ \\ \\ \\ \\ B = \\left[\\begin{array}{cc}-K & 0 \\\\ \\hphantom{-}0 & M\\end{array}\\right]$"
     ]
    },
    {
     "cell_type": "code",
     "collapsed": false,
     "input": [
      "# Form the matrices\n",
      "A = np.vstack((np.hstack((np.zeros((2,2)),-K)),np.hstack((-K, -C))))\n",
      "\n",
      "B = np.vstack((np.hstack((-K, np.zeros((2,2)))),np.hstack((np.zeros((2,2)),M))))\n",
      "\n",
      "\n",
      "# Solve the eigenvalue problem using them\n",
      "eigenvals_sym, eigenvects_sym = linalg.eig(A,B)"
     ],
     "language": "python",
     "metadata": {},
     "outputs": [],
     "prompt_number": 141
    },
    {
     "cell_type": "code",
     "collapsed": false,
     "input": [
      "print '\\n'\n",
      "print 'The resulting eigenvalues are {:.4}, {:.4}, {:.4}, and {:.4}.'.format(eigenvals_sym[0], eigenvals_sym[1], eigenvals_sym[2], eigenvals_sym[3])\n",
      "print '\\n'\n",
      "\n",
      "print 'So, the resulting natural frequencies are {:.4}rad/s and {:.4}rad/s.'.format(np.abs(eigenvals_sym[2]), np.abs(eigenvals_sym[0]))\n",
      "print '\\n'"
     ],
     "language": "python",
     "metadata": {},
     "outputs": [
      {
       "output_type": "stream",
       "stream": "stdout",
       "text": [
        "\n",
        "\n",
        "The resulting eigenvalues are 1.732j, -1.732j, 1j, and -1j.\n",
        "\n",
        "\n",
        "So, the resulting natural frequencies are 1.0rad/s and 1.732rad/s.\n",
        "\n",
        "\n"
       ]
      }
     ],
     "prompt_number": 142
    },
    {
     "cell_type": "code",
     "collapsed": false,
     "input": [
      "# make 1st entry real\n",
      "eigvect1_sym = eigenvects_sym[:,0] * np.exp(-1.0j * np.angle(eigenvects_sym[0,0]))\n",
      "eigvect2_sym = eigenvects_sym[:,2] * np.exp(-1.0j * np.angle(eigenvects_sym[0,2]))\n",
      "\n",
      "# scale to match the undamped\n",
      "eigvect1_sym *= (eigenvects[0,0] / eigvect1_sym[0])\n",
      "eigvect2_sym *= (eigenvects[0,1] / eigvect2_sym[0])"
     ],
     "language": "python",
     "metadata": {},
     "outputs": [],
     "prompt_number": 143
    },
    {
     "cell_type": "code",
     "collapsed": false,
     "input": [
      "print '\\n'\n",
      "print 'The first eigevector is '\n",
      "print np.array_str(eigvect1_sym,precision=4,suppress_small=True)\n",
      "print '\\n'\n",
      "print 'The second eigevector is '\n",
      "print np.array_str(eigvect2_sym,precision=4,suppress_small=True)\n",
      "print '\\n'"
     ],
     "language": "python",
     "metadata": {},
     "outputs": [
      {
       "output_type": "stream",
       "stream": "stdout",
       "text": [
        "\n",
        "\n",
        "The first eigevector is \n",
        "[-0.7071+0.j      0.7071-0.j     -0.0000-1.2247j  0.0000+1.2247j]\n",
        "\n",
        "\n",
        "The second eigevector is \n",
        "[-0.7071+0.j     -0.7071+0.j     -0.0000-0.7071j -0.0000-0.7071j]\n",
        "\n",
        "\n"
       ]
      }
     ],
     "prompt_number": 151
    },
    {
     "cell_type": "markdown",
     "metadata": {},
     "source": [
      "We again want to look at the entries in these vectors that correspond to the generalized coordinates $x_1$ and $x_2$. In the symmetric formulation, the first and second states represent these. So, if we look at the first and second entries of the two eigenvectors, they match the ones we found through the \"normal\" solution procedure earlier. \n"
     ]
    },
    {
     "cell_type": "markdown",
     "metadata": {},
     "source": [
      "## The Damped Problem &mdash; State-Space Form\n",
      "We'll first solve the damped version of this problem using the state-space form.\n",
      "\n"
     ]
    },
    {
     "cell_type": "code",
     "collapsed": false,
     "input": [
      "# Define the matrices\n",
      "m1 = 1.0\n",
      "m2 = 1.0\n",
      "\n",
      "k1 = 1.0 \n",
      "k2 = 1.0\n",
      "k3 = 1.0\n",
      "\n",
      "c1 = 0.1\n",
      "c2 = 0.1\n",
      "c3 = 0.1\n",
      "\n",
      "# Redefine the damping matrix\n",
      "C = np.asarray([[c1 + c2, -c2],\n",
      "                [-c2,      c2 + c3]])\n",
      "\n",
      "\n",
      "# Redefine the state-space matrix\n",
      "A = np.asarray([[0,                     1,           0,           0],\n",
      "                [-(k1+k2)/m1, -(c1+c2)/m1,       k2/m1,       c2/m1],\n",
      "                [0,                     0,           0,           1],\n",
      "                [k2/m2,             c2/m2, -(k2+k3)/m2, -(c2+c3)/m2]])\n",
      "\n",
      "\n",
      "eigenvals_damped_ss, eigenvects_damped_ss = linalg.eig(A)"
     ],
     "language": "python",
     "metadata": {},
     "outputs": [],
     "prompt_number": 119
    },
    {
     "cell_type": "code",
     "collapsed": false,
     "input": [
      "print '\\n'\n",
      "print 'The resulting eigenvalues are {:.4}, {:.4}, {:.4}, and {:.4}.'.format(eigenvals_damped_ss[0], eigenvals_damped_ss[1], eigenvals_damped_ss[2], eigenvals_damped_ss[3])\n",
      "print '\\n'\n",
      "\n",
      "print 'So, the resulting natural frequencies are {:.4}rad/s and {:.4}rad/s.'.format(np.abs(eigenvals_damped_ss[2]), np.abs(eigenvals_damped_ss[0]))\n",
      "print '\\n'"
     ],
     "language": "python",
     "metadata": {},
     "outputs": [
      {
       "output_type": "stream",
       "stream": "stdout",
       "text": [
        "\n",
        "\n",
        "The resulting eigenvalues are (-0.15+1.726j), (-0.15-1.726j), (-0.05+0.9987j), and (-0.05-0.9987j).\n",
        "\n",
        "\n",
        "So, the resulting natural frequencies are 1.0rad/s and 1.732rad/s.\n",
        "\n",
        "\n"
       ]
      }
     ],
     "prompt_number": 120
    },
    {
     "cell_type": "code",
     "collapsed": false,
     "input": [
      "# make 1st entry real\n",
      "eigvect1_damped_ss = eigenvects_damped_ss[:,0] * np.exp(-1.0j * np.angle(eigenvects_damped_ss[0,0]))\n",
      "eigvect2_damped_ss = eigenvects_damped_ss[:,2] * np.exp(-1.0j * np.angle(eigenvects_damped_ss[0,2]))\n",
      "\n",
      "# scale to match the undamped\n",
      "eigvect1_damped_ss *= (eigenvects[0,0] / eigvect1_damped_ss[0])\n",
      "eigvect2_damped_ss *= (eigenvects[0,1] / eigvect2_damped_ss[0])"
     ],
     "language": "python",
     "metadata": {},
     "outputs": [],
     "prompt_number": 121
    },
    {
     "cell_type": "code",
     "collapsed": false,
     "input": [
      "print '\\n'\n",
      "print 'The first eigevector is '\n",
      "print np.array_str(eigvect1_damped_ss,precision=4,suppress_small=True)\n",
      "print '\\n'\n",
      "print 'The second eigevector is '\n",
      "print np.array_str(eigvect2_damped_ss,precision=4,suppress_small=True)\n",
      "print '\\n'"
     ],
     "language": "python",
     "metadata": {},
     "outputs": [
      {
       "output_type": "stream",
       "stream": "stdout",
       "text": [
        "\n",
        "\n",
        "The first eigevector is \n",
        "[-0.7071+0.j      0.1061-1.2201j  0.7071+0.j     -0.1061+1.2201j]\n",
        "\n",
        "\n",
        "The second eigevector is \n",
        "[-0.7071-0.j      0.0354-0.7062j -0.7071-0.j      0.0354-0.7062j]\n",
        "\n",
        "\n"
       ]
      }
     ],
     "prompt_number": 158
    },
    {
     "cell_type": "markdown",
     "metadata": {},
     "source": [
      "## The Undamped Problem \u2014 Symmetric Form"
     ]
    },
    {
     "cell_type": "code",
     "collapsed": false,
     "input": [
      "# Form the matrices\n",
      "A = np.vstack((np.hstack((np.zeros((2,2)),-K)),np.hstack((-K, -C))))\n",
      "\n",
      "B = np.vstack((np.hstack((-K, np.zeros((2,2)))),np.hstack((np.zeros((2,2)),M))))\n",
      "\n",
      "\n",
      "# Solve the eigenvalue problem using them\n",
      "eigenvals_damped_sym, eigenvects_damped_sym = linalg.eig(A,B)"
     ],
     "language": "python",
     "metadata": {},
     "outputs": [],
     "prompt_number": 152
    },
    {
     "cell_type": "code",
     "collapsed": false,
     "input": [
      "# make 1st entry real\n",
      "eigvect1_damped_sym = eigenvects_damped_sym[:,0] * np.exp(-1.0j * np.angle(eigenvects_damped_sym[0,0]))\n",
      "eigvect2_damped_sym = eigenvects_damped_sym[:,2] * np.exp(-1.0j * np.angle(eigenvects_damped_sym[0,2]))\n",
      "\n",
      "# scale to match the undamped\n",
      "eigvect1_damped_sym *= (eigenvects[0,0] / eigvect1_damped_sym[0])\n",
      "eigvect2_damped_sym *= (eigenvects[0,1] / eigvect2_damped_sym[0])"
     ],
     "language": "python",
     "metadata": {},
     "outputs": [],
     "prompt_number": 156
    },
    {
     "cell_type": "code",
     "collapsed": false,
     "input": [
      "print '\\n'\n",
      "print 'The first eigevector is '\n",
      "print np.array_str(eigvect1_damped_sym, precision=4, suppress_small=True)\n",
      "print '\\n'\n",
      "print 'The second eigevector is '\n",
      "print np.array_str(eigvect2_damped_sym, precision=4, suppress_small=True)\n",
      "print '\\n'"
     ],
     "language": "python",
     "metadata": {},
     "outputs": [
      {
       "output_type": "stream",
       "stream": "stdout",
       "text": [
        "\n",
        "\n",
        "The first eigevector is \n",
        "[-0.7071+0.j      0.7071-0.j     -0.0000-1.2247j  0.0000+1.2247j]\n",
        "\n",
        "\n",
        "The second eigevector is \n",
        "[-0.7071+0.j     -0.7071+0.j     -0.0000-0.7071j -0.0000-0.7071j]\n",
        "\n",
        "\n"
       ]
      }
     ],
     "prompt_number": 157
    },
    {
     "cell_type": "markdown",
     "metadata": {},
     "source": [
      "We again want to look at the entries in these vectors that correspond to the generalized coordinates $x_1$ and $x_2$. In the symmetric formulation, the first and second states represent these. So, if we look at the first and second entries of the two eigenvectors, they match the ones we found through the \"normal\" solution procedure earlier. \n"
     ]
    },
    {
     "cell_type": "markdown",
     "metadata": {},
     "source": [
      "# Proportional Damping\n",
      "The two results presented above represent a specical case of damping for multi-degree-of-freedom systems, *proportional damping*. In this case:\n",
      "\n",
      "$ \\quad C = \\alpha M + \\beta K $\n",
      "\n",
      "where $\\alpha$ and $\\beta$ are positive, real constants."
     ]
    },
    {
     "cell_type": "code",
     "collapsed": false,
     "input": [],
     "language": "python",
     "metadata": {},
     "outputs": []
    }
   ],
   "metadata": {}
  }
 ]
}